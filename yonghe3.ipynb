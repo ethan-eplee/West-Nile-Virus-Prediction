{
 "cells": [
  {
   "cell_type": "markdown",
   "id": "ff8b1c32",
   "metadata": {},
   "source": [
    "# Project 4 : West-Nile-Virus-Prediction"
   ]
  },
  {
   "cell_type": "markdown",
   "id": "9ce96f7a",
   "metadata": {},
   "source": [
    "### Contents:\n",
    "- [Data Preparation](#Data-Preparation)\n",
    "- [Modelling](#Modelling)\n",
    "- [Model Evaluation](#Model-Evaluation)\n",
    "- [Submission](#Submission)"
   ]
  },
  {
   "cell_type": "code",
   "execution_count": null,
   "id": "e3d87ee4",
   "metadata": {},
   "outputs": [],
   "source": []
  },
  {
   "cell_type": "code",
   "execution_count": null,
   "id": "24de7acc",
   "metadata": {},
   "outputs": [],
   "source": []
  },
  {
   "cell_type": "markdown",
   "id": "9d726ce2",
   "metadata": {},
   "source": [
    "# Import Libraries"
   ]
  },
  {
   "cell_type": "code",
   "execution_count": 1,
   "id": "f102b1f7",
   "metadata": {},
   "outputs": [],
   "source": [
    "# Imports:\n",
    "import numpy as np\n",
    "import pandas as pd\n",
    "pd.options.display.float_format = '{:,.2f}'.format\n",
    "pd.options.mode.chained_assignment = None \n",
    "\n",
    "%matplotlib inline\n",
    "import matplotlib.pyplot as plt\n",
    "import seaborn as sns\n",
    "\n",
    "from sklearn.model_selection import train_test_split\n",
    "from sklearn.pipeline import Pipeline\n",
    "from sklearn.metrics import mean_squared_error,mean_absolute_error\n",
    "from sklearn.preprocessing import MinMaxScaler, StandardScaler,RobustScaler\n",
    "from sklearn.inspection import partial_dependence,PartialDependenceDisplay\n",
    "from sklearn import metrics\n",
    "from sklearn.metrics import f1_score,confusion_matrix, plot_confusion_matrix,ConfusionMatrixDisplay,accuracy_score, \\\n",
    "RocCurveDisplay, roc_auc_score, PrecisionRecallDisplay\n",
    "from sklearn.ensemble import RandomForestClassifier,GradientBoostingClassifier\n",
    "from sklearn.model_selection import TimeSeriesSplit, GridSearchCV\n",
    "from sklearn.dummy import DummyClassifier\n",
    "\n",
    "from imblearn.pipeline import Pipeline \n",
    "from imblearn.over_sampling import RandomOverSampler,SMOTE\n",
    "from imblearn.under_sampling import RandomUnderSampler \n",
    "\n",
    "\n",
    "import lightgbm as lgb\n",
    "\n",
    "import pickle\n",
    "\n",
    "import warnings\n",
    "warnings.simplefilter(action='ignore', category=FutureWarning)\n",
    "warnings.filterwarnings(\"ignore\", category=DeprecationWarning) \n",
    "\n",
    "get_ipython().run_line_magic('matplotlib', 'inline')\n",
    "\n",
    "pd.options.display.max_columns = None\n",
    "pd.options.display.max_rows = None\n",
    "\n",
    "\n",
    "import datetime"
   ]
  },
  {
   "cell_type": "code",
   "execution_count": 2,
   "id": "88188dc6",
   "metadata": {},
   "outputs": [],
   "source": [
    "#!pip install imblearn"
   ]
  },
  {
   "cell_type": "code",
   "execution_count": 3,
   "id": "d21e5efe",
   "metadata": {},
   "outputs": [],
   "source": [
    "#!pip install lightgbm"
   ]
  },
  {
   "cell_type": "markdown",
   "id": "ff5d43b0",
   "metadata": {},
   "source": [
    "# define some functions"
   ]
  },
  {
   "cell_type": "code",
   "execution_count": 4,
   "id": "bf8f17cf",
   "metadata": {},
   "outputs": [],
   "source": [
    "#The function will:\n",
    "# 1. run the input GridSearchCV\n",
    "# 2. compute and compare the roc_auc_score, F1 score for training data and testing data\n",
    "# 3. get and print the confusion matrix\n",
    "# 4. plot the confusion matrix and P-R curve\n",
    "# 5. plot feature importance list\n",
    "\n",
    "def run_model(gs, model_name, X_train, y_train, X_test, y_test):\n",
    "    \n",
    "    # run the input GridSearchCV\n",
    "    gs.fit(X_train, y_train)\n",
    "    \n",
    "    # print(gs.best_params_)\n",
    "    if isinstance(gs,GridSearchCV):\n",
    "        print(\"best_params: \")\n",
    "        for (item, value) in gs.best_params_.items():\n",
    "            print('   ',item, ' : ', value)\n",
    "    \n",
    "    #compute and compare the auc_score for training data and testing data\n",
    "    train_auc_score = gs.score(X_train, y_train)\n",
    "    test_auc_score = gs.score(X_test, y_test)\n",
    "    auc_perc_diff = np.abs(test_auc_score/train_auc_score*100-100)\n",
    "    \n",
    "    print(f'\\nprecision_recall_auc_score on training set: {train_auc_score:.3f}')\n",
    "    print(f'precision_recall_auc_score on testing set: {test_auc_score:.3f}')\n",
    "    print(f'perc_diff: {auc_perc_diff:.1f} %\\n')\n",
    "    \n",
    "    # Get predictions\n",
    "    y_train_preds = gs.predict(X_train) \n",
    "    y_test_preds = gs.predict(X_test)\n",
    "    \n",
    "    #calculate the F1_score\n",
    "    train_f1_score =  f1_score(y_train, y_train_preds)\n",
    "    test_f1_score = f1_score(y_test, y_test_preds)\n",
    "    f1_perc_diff = np.abs(test_f1_score/train_f1_score*100-100)\n",
    "    print(f'\\nf1_score on training set: {train_f1_score:.3f}')\n",
    "    print(f'f1_score on testing set: {test_f1_score:.3f}')\n",
    "    print(f'perc_diff: {f1_perc_diff:.1f} %\\n')\n",
    "    \n",
    "    \n",
    "    \n",
    "    # Save confusion matrix values\n",
    "    print(\"confusion matrix: \")\n",
    "    cm = confusion_matrix(y_test, y_test_preds)\n",
    "    cm_df = pd.DataFrame(cm, columns=['pred No virus', 'pred WnvPresent'], \n",
    "                         index=['actual No virus', 'actual WnvPresent'])\n",
    "    print(cm_df.head())\n",
    "                    \n",
    "        \n",
    "    print(\"\\nplot confusion matrix and ROC curve\")\n",
    "    fig, (ax1, ax2) = plt.subplots(1, 2, constrained_layout=True, figsize=[15,6])\n",
    "    \n",
    "    font = {'weight' : 'bold',\n",
    "            'size'   : 16}\n",
    "    plt.rc('font', **font)\n",
    "    \n",
    "    # View confusion matrix\n",
    "    ConfusionMatrixDisplay.from_estimator(gs, X_test, y_test, ax=ax1)\n",
    "    ax1.set_title(\"confusion matrix\")\n",
    "    \n",
    "    #plot Precision-Recall curve\n",
    "    PrecisionRecallDisplay.from_estimator(gs, X_test, y_test,ax=ax2)\n",
    "    ax2.set_xticks(np.arange(0, 1, 20))\n",
    "    ax2.set_title(\"precision recall curve\")\n",
    "    ax2.legend(loc='upper right', fontsize=14)\n",
    "\n",
    "    #only plot the important feather list if the model is instance of (gridsearchcv)\n",
    "    if isinstance(gs,GridSearchCV):\n",
    "        #plot featureimportances\n",
    "        model = gs.best_estimator_.named_steps[\"classifier\"]\n",
    "        importances = model.feature_importances_\n",
    "        indices = np.argsort(importances)\n",
    "        fig,ax=plt.subplots(1,figsize=(10,24))\n",
    "        features = X_train.columns\n",
    "        plt.title('Feature Importances')\n",
    "        ax.barh(range(len(indices)), importances[indices], color='b', align='center')\n",
    "        plt.yticks(range(len(indices)), [features[i] for i in indices])\n",
    "        plt.xlabel('Relative Importance')\n",
    "        plt.show()\n",
    "    \n",
    "    \n",
    "    return pd.DataFrame({'Precision_Recall__Auc_Train':train_auc_score,\n",
    "                         'Precision_Recall_Auc_Test':test_auc_score,\n",
    "                         'Precision_Recall_Auc Generalization %' : auc_perc_diff,\n",
    "                         \n",
    "                         'F1_train' : train_f1_score,\n",
    "                         'F1_test' : test_f1_score,\n",
    "                         'F1 Generalization %' : f1_perc_diff\n",
    "                        }, index=[model_name])\n"
   ]
  },
  {
   "cell_type": "code",
   "execution_count": null,
   "id": "ba5b9ac9",
   "metadata": {},
   "outputs": [],
   "source": []
  },
  {
   "cell_type": "markdown",
   "id": "0a9b184c",
   "metadata": {},
   "source": [
    "# import data from pickle file"
   ]
  },
  {
   "cell_type": "code",
   "execution_count": 5,
   "id": "53a5123a",
   "metadata": {},
   "outputs": [],
   "source": [
    "#read pickle_dict, which store everything\n",
    "pickle_dict2 = pickle.load(open('../assets/data2.pkl', 'rb'))\n",
    "#df_train = pickle_dict2['df_train']\n",
    "df_test = pickle_dict2['df_test']\n",
    "df_final = pickle_dict2['df_final']\n",
    "df_final_submission = pickle_dict2['df_final_submission']\n"
   ]
  },
  {
   "cell_type": "code",
   "execution_count": null,
   "id": "c89f1d22",
   "metadata": {},
   "outputs": [],
   "source": []
  },
  {
   "cell_type": "markdown",
   "id": "a62eda34",
   "metadata": {},
   "source": [
    "# Data Preparation"
   ]
  },
  {
   "cell_type": "code",
   "execution_count": 6,
   "id": "e3bde20c",
   "metadata": {},
   "outputs": [],
   "source": [
    "#15, smlgb(public Score: 0.74001), oulgb(Public score: 0.75782)\n",
    "random_key=15\n",
    "\n",
    "columns_to_drop = ['Date', 'Address', 'Block', 'Street', 'Trap', 'AddressNumberAndStreet', \n",
    "                            'Latitude', 'Longitude', 'AddressAccuracy', 'NumMosquitos', 'WnvPresent', 'geometry','Station']\n",
    "\n",
    "X = df_final.drop(columns=columns_to_drop)\n",
    "y = df_final['WnvPresent']\n",
    "\n",
    "X_train, X_test, y_train, y_test = train_test_split(X, y, test_size=.3, random_state=random_key, stratify=y)\n",
    "\n",
    "#for test submission\n",
    "columns_to_drop_submission = ['Date', 'Address', 'Block', 'Street', 'Trap', 'AddressNumberAndStreet', \n",
    "                            'Latitude', 'Longitude', 'AddressAccuracy', 'geometry','Station', 'Id']\n",
    "\n",
    "X_submission =  df_final_submission.drop(columns=columns_to_drop_submission)\n",
    "\n",
    "#result_list to hold the result from each model for final evaluation\n",
    "result_list = []"
   ]
  },
  {
   "cell_type": "code",
   "execution_count": 7,
   "id": "394e03ac",
   "metadata": {},
   "outputs": [
    {
     "data": {
      "text/plain": [
       "0   0.95\n",
       "1   0.05\n",
       "Name: WnvPresent, dtype: float64"
      ]
     },
     "execution_count": 7,
     "metadata": {},
     "output_type": "execute_result"
    }
   ],
   "source": [
    "# Check what we need to check in a classification problem.\n",
    "y.value_counts(normalize = True)"
   ]
  },
  {
   "cell_type": "code",
   "execution_count": 8,
   "id": "c91ff70a",
   "metadata": {},
   "outputs": [
    {
     "name": "stdout",
     "output_type": "stream",
     "text": [
      "5% of train data are positive, i.e., 'WnvPresent' equal to 1\n"
     ]
    }
   ],
   "source": [
    "print(\"5% of train data are positive, i.e., 'WnvPresent' equal to 1\")"
   ]
  },
  {
   "cell_type": "markdown",
   "id": "d15fee2b",
   "metadata": {},
   "source": [
    "# Metrics\n",
    "Since train data is highly imbalance, the following metrics will be used:\n",
    "   - precision_recall_auc_score\n",
    "   - F1 score"
   ]
  },
  {
   "cell_type": "markdown",
   "id": "91cd30ee",
   "metadata": {},
   "source": [
    "# Modelling\n",
    "- oversampling and undersampling, or SMOTE\n",
    "- run model\n",
    "- evaluate performance"
   ]
  },
  {
   "cell_type": "markdown",
   "id": "b0f2e6b0",
   "metadata": {},
   "source": [
    "### Baseline Model: DummyClassifier always predicting 'WnvPresent' equal to 1"
   ]
  },
  {
   "cell_type": "code",
   "execution_count": 9,
   "id": "f71421dc",
   "metadata": {},
   "outputs": [
    {
     "name": "stdout",
     "output_type": "stream",
     "text": [
      "\n",
      "precision_recall_auc_score on training set: 0.052\n",
      "precision_recall_auc_score on testing set: 0.052\n",
      "perc_diff: 0.3 %\n",
      "\n",
      "\n",
      "f1_score on training set: 0.100\n",
      "f1_score on testing set: 0.099\n",
      "perc_diff: 0.3 %\n",
      "\n",
      "confusion matrix: \n",
      "                   pred No virus  pred WnvPresent\n",
      "actual No virus                0             2987\n",
      "actual WnvPresent              0              165\n",
      "\n",
      "plot confusion matrix and ROC curve\n"
     ]
    },
    {
     "data": {
      "image/png": "[encoded data removed]",
      "text/plain": [
       "<Figure size 1080x432 with 3 Axes>"
      ]
     },
     "metadata": {
      "needs_background": "light"
     },
     "output_type": "display_data"
    }
   ],
   "source": [
    "dummy_clf = DummyClassifier(strategy='constant', constant=1)\n",
    "\n",
    "#finding the best hypermeter list for the model\n",
    "result = run_model(dummy_clf, \"baseline model\", X_train, y_train, X_test, y_test )\n",
    "result_list.append(result)"
   ]
  },
  {
   "cell_type": "markdown",
   "id": "80609ac0",
   "metadata": {},
   "source": [
    "### Model: OverSampling + UnderSampling + GradientBoostingClassifier"
   ]
  },
  {
   "cell_type": "code",
   "execution_count": 10,
   "id": "cf5e411f",
   "metadata": {
    "scrolled": false
   },
   "outputs": [
    {
     "ename": "ValueError",
     "evalue": "\nAll the 18 fits failed.\nIt is very likely that your model is misconfigured.\nYou can try to debug the error by setting error_score='raise'.\n\nBelow are more details about the failures:\n--------------------------------------------------------------------------------\n6 fits failed with the following error:\nTraceback (most recent call last):\n  File \"C:\\Users\\finan\\anaconda3\\lib\\site-packages\\sklearn\\model_selection\\_validation.py\", line 686, in _fit_and_score\n    estimator.fit(X_train, y_train, **fit_params)\n  File \"C:\\Users\\finan\\anaconda3\\lib\\site-packages\\imblearn\\pipeline.py\", line 268, in fit\n    Xt, yt = self._fit(X, y, **fit_params_steps)\n  File \"C:\\Users\\finan\\anaconda3\\lib\\site-packages\\imblearn\\pipeline.py\", line 226, in _fit\n    X, y, fitted_transformer = fit_resample_one_cached(\n  File \"C:\\Users\\finan\\anaconda3\\lib\\site-packages\\joblib\\memory.py\", line 349, in __call__\n    return self.func(*args, **kwargs)\n  File \"C:\\Users\\finan\\anaconda3\\lib\\site-packages\\imblearn\\pipeline.py\", line 394, in _fit_resample_one\n    X_res, y_res = sampler.fit_resample(X, y, **fit_params)\n  File \"C:\\Users\\finan\\anaconda3\\lib\\site-packages\\imblearn\\base.py\", line 77, in fit_resample\n    X, y, binarize_y = self._check_X_y(X, y)\n  File \"C:\\Users\\finan\\anaconda3\\lib\\site-packages\\imblearn\\over_sampling\\_random_over_sampler.py\", line 150, in _check_X_y\n    X, y = self._validate_data(\n  File \"C:\\Users\\finan\\anaconda3\\lib\\site-packages\\sklearn\\base.py\", line 596, in _validate_data\n    X, y = check_X_y(X, y, **check_params)\n  File \"C:\\Users\\finan\\anaconda3\\lib\\site-packages\\sklearn\\utils\\validation.py\", line 1074, in check_X_y\n    X = check_array(\n  File \"C:\\Users\\finan\\anaconda3\\lib\\site-packages\\sklearn\\utils\\validation.py\", line 791, in check_array\n    array = array.astype(new_dtype)\n  File \"C:\\Users\\finan\\anaconda3\\lib\\site-packages\\pandas\\core\\generic.py\", line 5815, in astype\n    new_data = self._mgr.astype(dtype=dtype, copy=copy, errors=errors)\n  File \"C:\\Users\\finan\\anaconda3\\lib\\site-packages\\pandas\\core\\internals\\managers.py\", line 418, in astype\n    return self.apply(\"astype\", dtype=dtype, copy=copy, errors=errors)\n  File \"C:\\Users\\finan\\anaconda3\\lib\\site-packages\\pandas\\core\\internals\\managers.py\", line 327, in apply\n    applied = getattr(b, f)(**kwargs)\n  File \"C:\\Users\\finan\\anaconda3\\lib\\site-packages\\pandas\\core\\internals\\blocks.py\", line 591, in astype\n    new_values = astype_array_safe(values, dtype, copy=copy, errors=errors)\n  File \"C:\\Users\\finan\\anaconda3\\lib\\site-packages\\pandas\\core\\dtypes\\cast.py\", line 1309, in astype_array_safe\n    new_values = astype_array(values, dtype, copy=copy)\n  File \"C:\\Users\\finan\\anaconda3\\lib\\site-packages\\pandas\\core\\dtypes\\cast.py\", line 1257, in astype_array\n    values = astype_nansafe(values, dtype, copy=copy)\n  File \"C:\\Users\\finan\\anaconda3\\lib\\site-packages\\pandas\\core\\dtypes\\cast.py\", line 1095, in astype_nansafe\n    result = astype_nansafe(flat, dtype, copy=copy, skipna=skipna)\n  File \"C:\\Users\\finan\\anaconda3\\lib\\site-packages\\pandas\\core\\dtypes\\cast.py\", line 1201, in astype_nansafe\n    return arr.astype(dtype, copy=True)\nValueError: could not convert string to float: '2011-09'\n\n--------------------------------------------------------------------------------\n12 fits failed with the following error:\nTraceback (most recent call last):\n  File \"C:\\Users\\finan\\anaconda3\\lib\\site-packages\\sklearn\\model_selection\\_validation.py\", line 686, in _fit_and_score\n    estimator.fit(X_train, y_train, **fit_params)\n  File \"C:\\Users\\finan\\anaconda3\\lib\\site-packages\\imblearn\\pipeline.py\", line 268, in fit\n    Xt, yt = self._fit(X, y, **fit_params_steps)\n  File \"C:\\Users\\finan\\anaconda3\\lib\\site-packages\\imblearn\\pipeline.py\", line 226, in _fit\n    X, y, fitted_transformer = fit_resample_one_cached(\n  File \"C:\\Users\\finan\\anaconda3\\lib\\site-packages\\joblib\\memory.py\", line 349, in __call__\n    return self.func(*args, **kwargs)\n  File \"C:\\Users\\finan\\anaconda3\\lib\\site-packages\\imblearn\\pipeline.py\", line 394, in _fit_resample_one\n    X_res, y_res = sampler.fit_resample(X, y, **fit_params)\n  File \"C:\\Users\\finan\\anaconda3\\lib\\site-packages\\imblearn\\base.py\", line 77, in fit_resample\n    X, y, binarize_y = self._check_X_y(X, y)\n  File \"C:\\Users\\finan\\anaconda3\\lib\\site-packages\\imblearn\\over_sampling\\_random_over_sampler.py\", line 150, in _check_X_y\n    X, y = self._validate_data(\n  File \"C:\\Users\\finan\\anaconda3\\lib\\site-packages\\sklearn\\base.py\", line 596, in _validate_data\n    X, y = check_X_y(X, y, **check_params)\n  File \"C:\\Users\\finan\\anaconda3\\lib\\site-packages\\sklearn\\utils\\validation.py\", line 1074, in check_X_y\n    X = check_array(\n  File \"C:\\Users\\finan\\anaconda3\\lib\\site-packages\\sklearn\\utils\\validation.py\", line 791, in check_array\n    array = array.astype(new_dtype)\n  File \"C:\\Users\\finan\\anaconda3\\lib\\site-packages\\pandas\\core\\generic.py\", line 5815, in astype\n    new_data = self._mgr.astype(dtype=dtype, copy=copy, errors=errors)\n  File \"C:\\Users\\finan\\anaconda3\\lib\\site-packages\\pandas\\core\\internals\\managers.py\", line 418, in astype\n    return self.apply(\"astype\", dtype=dtype, copy=copy, errors=errors)\n  File \"C:\\Users\\finan\\anaconda3\\lib\\site-packages\\pandas\\core\\internals\\managers.py\", line 327, in apply\n    applied = getattr(b, f)(**kwargs)\n  File \"C:\\Users\\finan\\anaconda3\\lib\\site-packages\\pandas\\core\\internals\\blocks.py\", line 591, in astype\n    new_values = astype_array_safe(values, dtype, copy=copy, errors=errors)\n  File \"C:\\Users\\finan\\anaconda3\\lib\\site-packages\\pandas\\core\\dtypes\\cast.py\", line 1309, in astype_array_safe\n    new_values = astype_array(values, dtype, copy=copy)\n  File \"C:\\Users\\finan\\anaconda3\\lib\\site-packages\\pandas\\core\\dtypes\\cast.py\", line 1257, in astype_array\n    values = astype_nansafe(values, dtype, copy=copy)\n  File \"C:\\Users\\finan\\anaconda3\\lib\\site-packages\\pandas\\core\\dtypes\\cast.py\", line 1095, in astype_nansafe\n    result = astype_nansafe(flat, dtype, copy=copy, skipna=skipna)\n  File \"C:\\Users\\finan\\anaconda3\\lib\\site-packages\\pandas\\core\\dtypes\\cast.py\", line 1201, in astype_nansafe\n    return arr.astype(dtype, copy=True)\nValueError: could not convert string to float: '2011-07'\n",
     "output_type": "error",
     "traceback": [
      "\u001b[1;31m---------------------------------------------------------------------------\u001b[0m",
      "\u001b[1;31mValueError\u001b[0m                                Traceback (most recent call last)",
      "\u001b[1;32m~\\AppData\\Local\\Temp/ipykernel_18820/4033658149.py\u001b[0m in \u001b[0;36m<module>\u001b[1;34m\u001b[0m\n\u001b[0;32m     24\u001b[0m \u001b[1;33m\u001b[0m\u001b[0m\n\u001b[0;32m     25\u001b[0m \u001b[1;31m#finding the best hypermeter list for the model\u001b[0m\u001b[1;33m\u001b[0m\u001b[1;33m\u001b[0m\u001b[0m\n\u001b[1;32m---> 26\u001b[1;33m \u001b[0mresult\u001b[0m \u001b[1;33m=\u001b[0m \u001b[0mrun_model\u001b[0m\u001b[1;33m(\u001b[0m\u001b[0mgs_ougb\u001b[0m\u001b[1;33m,\u001b[0m \u001b[1;34m\"OverSampling + UnderSampling + GradientBoost\"\u001b[0m\u001b[1;33m,\u001b[0m \u001b[0mX_train\u001b[0m\u001b[1;33m,\u001b[0m \u001b[0my_train\u001b[0m\u001b[1;33m,\u001b[0m \u001b[0mX_test\u001b[0m\u001b[1;33m,\u001b[0m \u001b[0my_test\u001b[0m\u001b[1;33m)\u001b[0m\u001b[1;33m\u001b[0m\u001b[1;33m\u001b[0m\u001b[0m\n\u001b[0m\u001b[0;32m     27\u001b[0m \u001b[0mresult_list\u001b[0m\u001b[1;33m.\u001b[0m\u001b[0mappend\u001b[0m\u001b[1;33m(\u001b[0m\u001b[0mresult\u001b[0m\u001b[1;33m)\u001b[0m\u001b[1;33m\u001b[0m\u001b[1;33m\u001b[0m\u001b[0m\n",
      "\u001b[1;32m~\\AppData\\Local\\Temp/ipykernel_18820/3264267853.py\u001b[0m in \u001b[0;36mrun_model\u001b[1;34m(gs, model_name, X_train, y_train, X_test, y_test)\u001b[0m\n\u001b[0;32m      9\u001b[0m \u001b[1;33m\u001b[0m\u001b[0m\n\u001b[0;32m     10\u001b[0m     \u001b[1;31m# run the input GridSearchCV\u001b[0m\u001b[1;33m\u001b[0m\u001b[1;33m\u001b[0m\u001b[0m\n\u001b[1;32m---> 11\u001b[1;33m     \u001b[0mgs\u001b[0m\u001b[1;33m.\u001b[0m\u001b[0mfit\u001b[0m\u001b[1;33m(\u001b[0m\u001b[0mX_train\u001b[0m\u001b[1;33m,\u001b[0m \u001b[0my_train\u001b[0m\u001b[1;33m)\u001b[0m\u001b[1;33m\u001b[0m\u001b[1;33m\u001b[0m\u001b[0m\n\u001b[0m\u001b[0;32m     12\u001b[0m \u001b[1;33m\u001b[0m\u001b[0m\n\u001b[0;32m     13\u001b[0m     \u001b[1;31m# print(gs.best_params_)\u001b[0m\u001b[1;33m\u001b[0m\u001b[1;33m\u001b[0m\u001b[0m\n",
      "\u001b[1;32m~\\anaconda3\\lib\\site-packages\\sklearn\\model_selection\\_search.py\u001b[0m in \u001b[0;36mfit\u001b[1;34m(self, X, y, groups, **fit_params)\u001b[0m\n\u001b[0;32m    873\u001b[0m                 \u001b[1;32mreturn\u001b[0m \u001b[0mresults\u001b[0m\u001b[1;33m\u001b[0m\u001b[1;33m\u001b[0m\u001b[0m\n\u001b[0;32m    874\u001b[0m \u001b[1;33m\u001b[0m\u001b[0m\n\u001b[1;32m--> 875\u001b[1;33m             \u001b[0mself\u001b[0m\u001b[1;33m.\u001b[0m\u001b[0m_run_search\u001b[0m\u001b[1;33m(\u001b[0m\u001b[0mevaluate_candidates\u001b[0m\u001b[1;33m)\u001b[0m\u001b[1;33m\u001b[0m\u001b[1;33m\u001b[0m\u001b[0m\n\u001b[0m\u001b[0;32m    876\u001b[0m \u001b[1;33m\u001b[0m\u001b[0m\n\u001b[0;32m    877\u001b[0m             \u001b[1;31m# multimetric is determined here because in the case of a callable\u001b[0m\u001b[1;33m\u001b[0m\u001b[1;33m\u001b[0m\u001b[0m\n",
      "\u001b[1;32m~\\anaconda3\\lib\\site-packages\\sklearn\\model_selection\\_search.py\u001b[0m in \u001b[0;36m_run_search\u001b[1;34m(self, evaluate_candidates)\u001b[0m\n\u001b[0;32m   1377\u001b[0m     \u001b[1;32mdef\u001b[0m \u001b[0m_run_search\u001b[0m\u001b[1;33m(\u001b[0m\u001b[0mself\u001b[0m\u001b[1;33m,\u001b[0m \u001b[0mevaluate_candidates\u001b[0m\u001b[1;33m)\u001b[0m\u001b[1;33m:\u001b[0m\u001b[1;33m\u001b[0m\u001b[1;33m\u001b[0m\u001b[0m\n\u001b[0;32m   1378\u001b[0m         \u001b[1;34m\"\"\"Search all candidates in param_grid\"\"\"\u001b[0m\u001b[1;33m\u001b[0m\u001b[1;33m\u001b[0m\u001b[0m\n\u001b[1;32m-> 1379\u001b[1;33m         \u001b[0mevaluate_candidates\u001b[0m\u001b[1;33m(\u001b[0m\u001b[0mParameterGrid\u001b[0m\u001b[1;33m(\u001b[0m\u001b[0mself\u001b[0m\u001b[1;33m.\u001b[0m\u001b[0mparam_grid\u001b[0m\u001b[1;33m)\u001b[0m\u001b[1;33m)\u001b[0m\u001b[1;33m\u001b[0m\u001b[1;33m\u001b[0m\u001b[0m\n\u001b[0m\u001b[0;32m   1380\u001b[0m \u001b[1;33m\u001b[0m\u001b[0m\n\u001b[0;32m   1381\u001b[0m \u001b[1;33m\u001b[0m\u001b[0m\n",
      "\u001b[1;32m~\\anaconda3\\lib\\site-packages\\sklearn\\model_selection\\_search.py\u001b[0m in \u001b[0;36mevaluate_candidates\u001b[1;34m(candidate_params, cv, more_results)\u001b[0m\n\u001b[0;32m    850\u001b[0m                     )\n\u001b[0;32m    851\u001b[0m \u001b[1;33m\u001b[0m\u001b[0m\n\u001b[1;32m--> 852\u001b[1;33m                 \u001b[0m_warn_or_raise_about_fit_failures\u001b[0m\u001b[1;33m(\u001b[0m\u001b[0mout\u001b[0m\u001b[1;33m,\u001b[0m \u001b[0mself\u001b[0m\u001b[1;33m.\u001b[0m\u001b[0merror_score\u001b[0m\u001b[1;33m)\u001b[0m\u001b[1;33m\u001b[0m\u001b[1;33m\u001b[0m\u001b[0m\n\u001b[0m\u001b[0;32m    853\u001b[0m \u001b[1;33m\u001b[0m\u001b[0m\n\u001b[0;32m    854\u001b[0m                 \u001b[1;31m# For callable self.scoring, the return type is only know after\u001b[0m\u001b[1;33m\u001b[0m\u001b[1;33m\u001b[0m\u001b[0m\n",
      "\u001b[1;32m~\\anaconda3\\lib\\site-packages\\sklearn\\model_selection\\_validation.py\u001b[0m in \u001b[0;36m_warn_or_raise_about_fit_failures\u001b[1;34m(results, error_score)\u001b[0m\n\u001b[0;32m    365\u001b[0m                 \u001b[1;34mf\"Below are more details about the failures:\\n{fit_errors_summary}\"\u001b[0m\u001b[1;33m\u001b[0m\u001b[1;33m\u001b[0m\u001b[0m\n\u001b[0;32m    366\u001b[0m             )\n\u001b[1;32m--> 367\u001b[1;33m             \u001b[1;32mraise\u001b[0m \u001b[0mValueError\u001b[0m\u001b[1;33m(\u001b[0m\u001b[0mall_fits_failed_message\u001b[0m\u001b[1;33m)\u001b[0m\u001b[1;33m\u001b[0m\u001b[1;33m\u001b[0m\u001b[0m\n\u001b[0m\u001b[0;32m    368\u001b[0m \u001b[1;33m\u001b[0m\u001b[0m\n\u001b[0;32m    369\u001b[0m         \u001b[1;32melse\u001b[0m\u001b[1;33m:\u001b[0m\u001b[1;33m\u001b[0m\u001b[1;33m\u001b[0m\u001b[0m\n",
      "\u001b[1;31mValueError\u001b[0m: \nAll the 18 fits failed.\nIt is very likely that your model is misconfigured.\nYou can try to debug the error by setting error_score='raise'.\n\nBelow are more details about the failures:\n--------------------------------------------------------------------------------\n6 fits failed with the following error:\nTraceback (most recent call last):\n  File \"C:\\Users\\finan\\anaconda3\\lib\\site-packages\\sklearn\\model_selection\\_validation.py\", line 686, in _fit_and_score\n    estimator.fit(X_train, y_train, **fit_params)\n  File \"C:\\Users\\finan\\anaconda3\\lib\\site-packages\\imblearn\\pipeline.py\", line 268, in fit\n    Xt, yt = self._fit(X, y, **fit_params_steps)\n  File \"C:\\Users\\finan\\anaconda3\\lib\\site-packages\\imblearn\\pipeline.py\", line 226, in _fit\n    X, y, fitted_transformer = fit_resample_one_cached(\n  File \"C:\\Users\\finan\\anaconda3\\lib\\site-packages\\joblib\\memory.py\", line 349, in __call__\n    return self.func(*args, **kwargs)\n  File \"C:\\Users\\finan\\anaconda3\\lib\\site-packages\\imblearn\\pipeline.py\", line 394, in _fit_resample_one\n    X_res, y_res = sampler.fit_resample(X, y, **fit_params)\n  File \"C:\\Users\\finan\\anaconda3\\lib\\site-packages\\imblearn\\base.py\", line 77, in fit_resample\n    X, y, binarize_y = self._check_X_y(X, y)\n  File \"C:\\Users\\finan\\anaconda3\\lib\\site-packages\\imblearn\\over_sampling\\_random_over_sampler.py\", line 150, in _check_X_y\n    X, y = self._validate_data(\n  File \"C:\\Users\\finan\\anaconda3\\lib\\site-packages\\sklearn\\base.py\", line 596, in _validate_data\n    X, y = check_X_y(X, y, **check_params)\n  File \"C:\\Users\\finan\\anaconda3\\lib\\site-packages\\sklearn\\utils\\validation.py\", line 1074, in check_X_y\n    X = check_array(\n  File \"C:\\Users\\finan\\anaconda3\\lib\\site-packages\\sklearn\\utils\\validation.py\", line 791, in check_array\n    array = array.astype(new_dtype)\n  File \"C:\\Users\\finan\\anaconda3\\lib\\site-packages\\pandas\\core\\generic.py\", line 5815, in astype\n    new_data = self._mgr.astype(dtype=dtype, copy=copy, errors=errors)\n  File \"C:\\Users\\finan\\anaconda3\\lib\\site-packages\\pandas\\core\\internals\\managers.py\", line 418, in astype\n    return self.apply(\"astype\", dtype=dtype, copy=copy, errors=errors)\n  File \"C:\\Users\\finan\\anaconda3\\lib\\site-packages\\pandas\\core\\internals\\managers.py\", line 327, in apply\n    applied = getattr(b, f)(**kwargs)\n  File \"C:\\Users\\finan\\anaconda3\\lib\\site-packages\\pandas\\core\\internals\\blocks.py\", line 591, in astype\n    new_values = astype_array_safe(values, dtype, copy=copy, errors=errors)\n  File \"C:\\Users\\finan\\anaconda3\\lib\\site-packages\\pandas\\core\\dtypes\\cast.py\", line 1309, in astype_array_safe\n    new_values = astype_array(values, dtype, copy=copy)\n  File \"C:\\Users\\finan\\anaconda3\\lib\\site-packages\\pandas\\core\\dtypes\\cast.py\", line 1257, in astype_array\n    values = astype_nansafe(values, dtype, copy=copy)\n  File \"C:\\Users\\finan\\anaconda3\\lib\\site-packages\\pandas\\core\\dtypes\\cast.py\", line 1095, in astype_nansafe\n    result = astype_nansafe(flat, dtype, copy=copy, skipna=skipna)\n  File \"C:\\Users\\finan\\anaconda3\\lib\\site-packages\\pandas\\core\\dtypes\\cast.py\", line 1201, in astype_nansafe\n    return arr.astype(dtype, copy=True)\nValueError: could not convert string to float: '2011-09'\n\n--------------------------------------------------------------------------------\n12 fits failed with the following error:\nTraceback (most recent call last):\n  File \"C:\\Users\\finan\\anaconda3\\lib\\site-packages\\sklearn\\model_selection\\_validation.py\", line 686, in _fit_and_score\n    estimator.fit(X_train, y_train, **fit_params)\n  File \"C:\\Users\\finan\\anaconda3\\lib\\site-packages\\imblearn\\pipeline.py\", line 268, in fit\n    Xt, yt = self._fit(X, y, **fit_params_steps)\n  File \"C:\\Users\\finan\\anaconda3\\lib\\site-packages\\imblearn\\pipeline.py\", line 226, in _fit\n    X, y, fitted_transformer = fit_resample_one_cached(\n  File \"C:\\Users\\finan\\anaconda3\\lib\\site-packages\\joblib\\memory.py\", line 349, in __call__\n    return self.func(*args, **kwargs)\n  File \"C:\\Users\\finan\\anaconda3\\lib\\site-packages\\imblearn\\pipeline.py\", line 394, in _fit_resample_one\n    X_res, y_res = sampler.fit_resample(X, y, **fit_params)\n  File \"C:\\Users\\finan\\anaconda3\\lib\\site-packages\\imblearn\\base.py\", line 77, in fit_resample\n    X, y, binarize_y = self._check_X_y(X, y)\n  File \"C:\\Users\\finan\\anaconda3\\lib\\site-packages\\imblearn\\over_sampling\\_random_over_sampler.py\", line 150, in _check_X_y\n    X, y = self._validate_data(\n  File \"C:\\Users\\finan\\anaconda3\\lib\\site-packages\\sklearn\\base.py\", line 596, in _validate_data\n    X, y = check_X_y(X, y, **check_params)\n  File \"C:\\Users\\finan\\anaconda3\\lib\\site-packages\\sklearn\\utils\\validation.py\", line 1074, in check_X_y\n    X = check_array(\n  File \"C:\\Users\\finan\\anaconda3\\lib\\site-packages\\sklearn\\utils\\validation.py\", line 791, in check_array\n    array = array.astype(new_dtype)\n  File \"C:\\Users\\finan\\anaconda3\\lib\\site-packages\\pandas\\core\\generic.py\", line 5815, in astype\n    new_data = self._mgr.astype(dtype=dtype, copy=copy, errors=errors)\n  File \"C:\\Users\\finan\\anaconda3\\lib\\site-packages\\pandas\\core\\internals\\managers.py\", line 418, in astype\n    return self.apply(\"astype\", dtype=dtype, copy=copy, errors=errors)\n  File \"C:\\Users\\finan\\anaconda3\\lib\\site-packages\\pandas\\core\\internals\\managers.py\", line 327, in apply\n    applied = getattr(b, f)(**kwargs)\n  File \"C:\\Users\\finan\\anaconda3\\lib\\site-packages\\pandas\\core\\internals\\blocks.py\", line 591, in astype\n    new_values = astype_array_safe(values, dtype, copy=copy, errors=errors)\n  File \"C:\\Users\\finan\\anaconda3\\lib\\site-packages\\pandas\\core\\dtypes\\cast.py\", line 1309, in astype_array_safe\n    new_values = astype_array(values, dtype, copy=copy)\n  File \"C:\\Users\\finan\\anaconda3\\lib\\site-packages\\pandas\\core\\dtypes\\cast.py\", line 1257, in astype_array\n    values = astype_nansafe(values, dtype, copy=copy)\n  File \"C:\\Users\\finan\\anaconda3\\lib\\site-packages\\pandas\\core\\dtypes\\cast.py\", line 1095, in astype_nansafe\n    result = astype_nansafe(flat, dtype, copy=copy, skipna=skipna)\n  File \"C:\\Users\\finan\\anaconda3\\lib\\site-packages\\pandas\\core\\dtypes\\cast.py\", line 1201, in astype_nansafe\n    return arr.astype(dtype, copy=True)\nValueError: could not convert string to float: '2011-07'\n"
     ]
    }
   ],
   "source": [
    "# define pipeline\n",
    "over = RandomOverSampler(sampling_strategy=0.1, random_state=random_key)\n",
    "under = RandomUnderSampler(sampling_strategy=0.5, random_state=random_key)\n",
    "model = GradientBoostingClassifier(random_state=random_key)\n",
    "\n",
    "steps = [('o', over), ('u', under), ('classifier', model)]\n",
    "pipe = Pipeline(steps=steps)\n",
    "\n",
    "\n",
    "#pipeline parameters\n",
    "pipe_params = {'classifier__n_estimators' : [300,500],       #The number of trees in the forest.\n",
    "               'classifier__max_depth' : [2,3,4],              #The maximum depth of the tree.\n",
    "               }\n",
    "\n",
    "# Instantiate GridSearchCV.\n",
    "#tscv = TimeSeriesSplit(n_splits=3)\n",
    "gs_ougb = GridSearchCV(pipe, # what object are we optimizing?\n",
    "                    param_grid = pipe_params, # what parameters values are we searching?\n",
    "                    cv=3, # 3-fold cross-validation.\n",
    "                    n_jobs=-1, \n",
    "                    scoring='average_precision' #'average_precision' = precision_recall_auc_score\n",
    "                    )\n",
    "\n",
    "\n",
    "#finding the best hypermeter list for the model\n",
    "result = run_model(gs_ougb, \"OverSampling + UnderSampling + GradientBoost\", X_train, y_train, X_test, y_test)\n",
    "result_list.append(result)\n"
   ]
  },
  {
   "cell_type": "code",
   "execution_count": null,
   "id": "1fda2bb7",
   "metadata": {},
   "outputs": [],
   "source": [
    "if isinstance(gs_ougb,GridSearchCV):\n",
    "    print(\"yes\")"
   ]
  },
  {
   "cell_type": "markdown",
   "id": "04a1251c",
   "metadata": {},
   "source": [
    "### Model: OverSampling + UnderSampling + RandomForestClassifier"
   ]
  },
  {
   "cell_type": "code",
   "execution_count": null,
   "id": "c80dce5c",
   "metadata": {
    "scrolled": false
   },
   "outputs": [],
   "source": [
    "# define pipeline\n",
    "over = RandomOverSampler(sampling_strategy=0.1, random_state=random_key)\n",
    "under = RandomUnderSampler(sampling_strategy=0.5, random_state=random_key)\n",
    "model = RandomForestClassifier(random_state=random_key)\n",
    "\n",
    "steps = [('o', over), ('u', under), ('classifier', model)]\n",
    "pipe = Pipeline(steps=steps)\n",
    "\n",
    "\n",
    "#pipeline parameters\n",
    "pipe_params = {'classifier__n_estimators' : [300],       #The number of trees in the forest.\n",
    "                'classifier__max_depth' : [4,5,6],              #The maximum depth of the tree.\n",
    "                'classifier__class_weight' : [None, {0:1,1:5}, {0:1,1:10}, {0:1,1:25}]\n",
    "               }\n",
    "\n",
    "\n",
    "# Instantiate GridSearchCV.\n",
    "#tscv = TimeSeriesSplit(n_splits=3)\n",
    "gs_ourf = GridSearchCV(pipe, # what object are we optimizing?\n",
    "                    param_grid = pipe_params, # what parameters values are we searching?\n",
    "                    cv=3, # 3-fold cross-validation.\n",
    "                    n_jobs=-1, \n",
    "                    scoring='average_precision'  #'average_precision' = precision_recall_auc_score\n",
    "                    )\n",
    "\n",
    "#finding the best hypermeter list for the model\n",
    "result = run_model(gs_ourf, \"OverSampling + UnderSampling + RandomForest\", X_train, y_train, X_test, y_test )\n",
    "result_list.append(result)\n"
   ]
  },
  {
   "cell_type": "code",
   "execution_count": null,
   "id": "0d08c0ec",
   "metadata": {},
   "outputs": [],
   "source": []
  },
  {
   "cell_type": "code",
   "execution_count": null,
   "id": "75d26a38",
   "metadata": {},
   "outputs": [],
   "source": []
  },
  {
   "cell_type": "markdown",
   "id": "c69741ac",
   "metadata": {},
   "source": [
    "### Model: OverSampling + UnderSampling + LGBMClassifier"
   ]
  },
  {
   "cell_type": "code",
   "execution_count": null,
   "id": "f3163691",
   "metadata": {
    "scrolled": false
   },
   "outputs": [],
   "source": [
    "# define pipeline\n",
    "over = RandomOverSampler(sampling_strategy=0.1, random_state=random_key)\n",
    "under = RandomUnderSampler(sampling_strategy=0.5, random_state=random_key)\n",
    "model = lgb.LGBMClassifier(objective='binary', random_state=random_key)\n",
    "\n",
    "steps = [('o', over), ('u', under), ('classifier', model)]\n",
    "pipe = Pipeline(steps=steps)\n",
    "\n",
    "\n",
    "#pipeline parameters\n",
    "pipe_params = { 'classifier__num_leaves' : [30,35,40],   #The number of trees in the forest.\n",
    "                'classifier__learning_rate' : [.01,0.05],   #The number of trees in the forest.\n",
    "                'classifier__max_depth' : [4,5,6],              #The maximum depth of the tree.\n",
    "                #'classifier__is_unbalance': ['True'],\n",
    "                'classifier__metric' : ['auc', 'binary_logloss','average_precision']              #The maximum depth of the tree.\n",
    "                }\n",
    "\n",
    "# Instantiate GridSearchCV.\n",
    "#tscv = TimeSeriesSplit(n_splits=3)\n",
    "gs_oulgb = GridSearchCV(pipe, # what object are we optimizing?\n",
    "                    param_grid = pipe_params, # what parameters values are we searching?\n",
    "                    cv=5, # 3-fold cross-validation.\n",
    "                    n_jobs=-1, \n",
    "                    scoring='average_precision' #'average_precision' = precision_recall_auc_score\n",
    "                    )\n",
    "\n",
    "#finding the best hypermeter list for the model\n",
    "result = run_model(gs_oulgb, \"OverSampling + UnderSampling + LightGBM\",  X_train, y_train, X_test, y_test )\n",
    "result_list.append(result)"
   ]
  },
  {
   "cell_type": "code",
   "execution_count": null,
   "id": "5e330341",
   "metadata": {},
   "outputs": [],
   "source": []
  },
  {
   "cell_type": "code",
   "execution_count": null,
   "id": "3ca07ebf",
   "metadata": {},
   "outputs": [],
   "source": []
  },
  {
   "cell_type": "markdown",
   "id": "a22372af",
   "metadata": {},
   "source": [
    "### Model: Smote + GradientBoostingClassifier"
   ]
  },
  {
   "cell_type": "code",
   "execution_count": null,
   "id": "39db0e20",
   "metadata": {
    "scrolled": false
   },
   "outputs": [],
   "source": [
    "# define pipeline\n",
    "#over = RandomOverSampler(sampling_strategy=0.1, random_state=random_key)\n",
    "#under = RandomUnderSampler(sampling_strategy=0.5, random_state=random_key)\n",
    "sm = SMOTE(sampling_strategy=0.2, random_state=random_key)\n",
    "model = GradientBoostingClassifier(random_state=random_key)\n",
    "\n",
    "#steps = [('o', over), ('u', under), ('classifier', model)]\n",
    "steps = [('smote', sm),  ('classifier', model)]\n",
    "pipe = Pipeline(steps=steps)\n",
    "\n",
    "\n",
    "#pipeline parameters\n",
    "pipe_params = {'classifier__n_estimators' : [300,500],       #The number of trees in the forest.\n",
    "               'classifier__max_depth' : [2,3,4],              #The maximum depth of the tree.\n",
    "               }\n",
    "\n",
    "# Instantiate GridSearchCV.\n",
    "#tscv = TimeSeriesSplit(n_splits=3)\n",
    "gs_smgb = GridSearchCV(pipe, # what object are we optimizing?\n",
    "                    param_grid = pipe_params, # what parameters values are we searching?\n",
    "                    cv=3, # 3-fold cross-validation.\n",
    "                    n_jobs=-1, \n",
    "                    scoring='average_precision' #'average_precision' = precision_recall_auc_score\n",
    "                    )\n",
    "\n",
    "\n",
    "#finding the best hypermeter list for the model\n",
    "result = run_model(gs_smgb, \"Smote  + GradientBoost\", X_train, y_train, X_test, y_test)\n",
    "result_list.append(result)\n"
   ]
  },
  {
   "cell_type": "code",
   "execution_count": null,
   "id": "c203313c",
   "metadata": {},
   "outputs": [],
   "source": []
  },
  {
   "cell_type": "markdown",
   "id": "2edd0fc7",
   "metadata": {},
   "source": [
    "### Model:Smote + RandomForestClassifier"
   ]
  },
  {
   "cell_type": "code",
   "execution_count": null,
   "id": "d48b917b",
   "metadata": {
    "scrolled": false
   },
   "outputs": [],
   "source": [
    "# define pipeline\n",
    "#over = RandomOverSampler(sampling_strategy=0.1, random_state=random_key)\n",
    "#under = RandomUnderSampler(sampling_strategy=0.5, random_state=random_key)\n",
    "sm = SMOTE(sampling_strategy=0.2, random_state=random_key)\n",
    "\n",
    "model = RandomForestClassifier(random_state=random_key)\n",
    "\n",
    "#steps = [('o', over), ('u', under), ('classifier', model)]\n",
    "steps = [('smote', sm),  ('classifier', model)]\n",
    "pipe = Pipeline(steps=steps)\n",
    "\n",
    "\n",
    "#pipeline parameters\n",
    "pipe_params = {'classifier__n_estimators' : [300],       #The number of trees in the forest.\n",
    "                'classifier__max_depth' : [4,5,6],              #The maximum depth of the tree.\n",
    "                'classifier__class_weight' : [None, {0:1,1:5}, {0:1,1:10}, {0:1,1:25}]\n",
    "               }\n",
    "\n",
    "\n",
    "# Instantiate GridSearchCV.\n",
    "#tscv = TimeSeriesSplit(n_splits=3)\n",
    "gs_smrf = GridSearchCV(pipe, # what object are we optimizing?\n",
    "                    param_grid = pipe_params, # what parameters values are we searching?\n",
    "                    cv=3, # 3-fold cross-validation.\n",
    "                    n_jobs=-1, \n",
    "                    scoring='average_precision'  #'average_precision' = precision_recall_auc_score\n",
    "                    )\n",
    "\n",
    "#finding the best hypermeter list for the model\n",
    "result = run_model(gs_smrf, \"Smote + RandomForest\", X_train, y_train, X_test, y_test )\n",
    "result_list.append(result)\n"
   ]
  },
  {
   "cell_type": "markdown",
   "id": "7c4d539b",
   "metadata": {},
   "source": [
    "### Model: SMOTE + LGBMClassifier "
   ]
  },
  {
   "cell_type": "code",
   "execution_count": null,
   "id": "c6f6cf96",
   "metadata": {
    "scrolled": false
   },
   "outputs": [],
   "source": [
    "# define pipeline\n",
    "#over = RandomOverSampler(sampling_strategy=0.1, random_state=random_key)\n",
    "#under = RandomUnderSampler(sampling_strategy=0.5, random_state=random_key)\n",
    "sm = SMOTE(sampling_strategy=0.2, random_state=random_key)\n",
    "\n",
    "model = lgb.LGBMClassifier(objective='binary', random_state=random_key)\n",
    "\n",
    "#steps = [('o', over), ('u', under), ('classifier', model)]\n",
    "steps = [('smote', sm),  ('classifier', model)]\n",
    "pipe = Pipeline(steps=steps)\n",
    "\n",
    "\n",
    "#pipeline parameters\n",
    "pipe_params = { 'classifier__num_leaves' : [30,35,40],   #The number of trees in the forest.\n",
    "                'classifier__learning_rate' : [.01,0.05],   #The number of trees in the forest.\n",
    "                'classifier__max_depth' : [4,5,6],              #The maximum depth of the tree.\n",
    "               # 'classifier__is_unbalance': ['True','False'],\n",
    "                'classifier__metric' : ['auc', 'binary_logloss','average_precision']              #The maximum depth of the tree.\n",
    "                }\n",
    "\n",
    "# Instantiate GridSearchCV.\n",
    "#tscv = TimeSeriesSplit(n_splits=3)\n",
    "gs_smlgb = GridSearchCV(pipe, # what object are we optimizing?\n",
    "                    param_grid = pipe_params, # what parameters values are we searching?\n",
    "                    cv=5, # 3-fold cross-validation.\n",
    "                    n_jobs=-1, \n",
    "                    scoring='average_precision' #'average_precision' = precision_recall_auc_score\n",
    "                    )\n",
    "\n",
    "#finding the best hypermeter list for the model\n",
    "result = run_model(gs_smlgb, \"Smote + LightGBM\",  X_train, y_train, X_test, y_test )\n",
    "result_list.append(result)"
   ]
  },
  {
   "cell_type": "markdown",
   "id": "90c9b747",
   "metadata": {},
   "source": [
    "# Model Evaluation"
   ]
  },
  {
   "cell_type": "code",
   "execution_count": null,
   "id": "b014006d",
   "metadata": {
    "scrolled": true
   },
   "outputs": [],
   "source": [
    "result_final= pd.concat(result_list,axis=0)\n",
    "result_final"
   ]
  },
  {
   "cell_type": "code",
   "execution_count": null,
   "id": "9b4a01c1",
   "metadata": {},
   "outputs": [],
   "source": []
  },
  {
   "cell_type": "code",
   "execution_count": null,
   "id": "70a38d38",
   "metadata": {},
   "outputs": [],
   "source": [
    "# Comparing precision-recall curve\n",
    "plt.rcParams['figure.figsize'] = (12.0, 10.0)\n",
    "fig=PrecisionRecallDisplay.from_estimator(dummy_clf, X_test, y_test,name=\"Baseline Model\") \n",
    "PrecisionRecallDisplay.from_estimator(gs_ougb, X_test, y_test,name=\"OverSampling + UnderSampling + GradientBoost\",ax = fig.ax_) \n",
    "PrecisionRecallDisplay.from_estimator(gs_ourf, X_test, y_test, name='OverSampling + UnderSampling + RandomForest',ax = fig.ax_) \n",
    "PrecisionRecallDisplay.from_estimator(gs_oulgb, X_test, y_test, name='OverSampling + UnderSampling + LightGBM',ax = fig.ax_) \n",
    "PrecisionRecallDisplay.from_estimator(gs_smgb, X_test, y_test,name=\"Smote + GradientBoost\",ax = fig.ax_) \n",
    "PrecisionRecallDisplay.from_estimator(gs_smrf, X_test, y_test, name='Smote + RandomForest',ax = fig.ax_)\n",
    "PrecisionRecallDisplay.from_estimator(gs_smlgb, X_test, y_test, name='Smote + LightGBM',ax = fig.ax_) \n",
    "fig.ax_.legend(loc='upper right', fontsize=14)\n",
    "fig.ax_.set_yticks(np.arange(0, 1.05, 0.05))\n",
    "fig.figure_.suptitle(\"precision-recall curve comparison\")\n",
    "plt.show()"
   ]
  },
  {
   "cell_type": "code",
   "execution_count": null,
   "id": "fdad2e2a",
   "metadata": {},
   "outputs": [],
   "source": [
    "# Comparing ROC AUC\n",
    "plt.rcParams['figure.figsize'] = (12.0, 10.0)\n",
    "#plot ROC curve\n",
    "fig=RocCurveDisplay.from_estimator(dummy_clf, X_test, y_test,name=\"Baseline Model\") \n",
    "RocCurveDisplay.from_estimator(gs_ougb, X_test, y_test,name=\"OverSampling + UnderSampling + GradientBoost\",ax = fig.ax_)\n",
    "RocCurveDisplay.from_estimator(gs_ourf, X_test, y_test, name='OverSampling + UnderSampling + RandomForest',ax = fig.ax_) \n",
    "RocCurveDisplay.from_estimator(gs_oulgb, X_test, y_test, name='OverSampling + UnderSampling + LightGBM',ax = fig.ax_) \n",
    "RocCurveDisplay.from_estimator(gs_smgb, X_test, y_test,name=\"Smote + GradientBoost\",ax = fig.ax_) \n",
    "RocCurveDisplay.from_estimator(gs_smrf, X_test, y_test, name='Smote + RandomForest',ax = fig.ax_)\n",
    "RocCurveDisplay.from_estimator(gs_smlgb, X_test, y_test, name='Smote + LightGBM',ax = fig.ax_) \n",
    "fig.ax_.legend(loc='lower right', fontsize=14)\n",
    "fig.figure_.suptitle(\"ROC curve comparison\")\n",
    "fig.ax_.set_xticks(np.arange(0, 1, 20))\n",
    "plt.show()"
   ]
  },
  {
   "cell_type": "markdown",
   "id": "7280e255",
   "metadata": {},
   "source": [
    "**Observations**\n",
    "- all models actually can not predict well in term of PR-curve and F1 scores\n",
    "- `Model: SMOTE + LGBMClassifier` will be chosen as production model at this stage as it has the best score and generalization\n",
    "- Feature Importance: mosquito species and weather conditions are the most important features, while some trap locations provided some mild contributions."
   ]
  },
  {
   "cell_type": "markdown",
   "id": "380e4238",
   "metadata": {},
   "source": [
    "**Future Improvement Plan**\n",
    "- To add more weather features from the weather data sets\n",
    "- To try more different lagged days\n",
    "- To try more different algorithms such as CatBoost, XGBoost\n",
    "- To try ensemble algorithms."
   ]
  },
  {
   "cell_type": "markdown",
   "id": "d7b56c4a",
   "metadata": {},
   "source": [
    "# Submission"
   ]
  },
  {
   "cell_type": "code",
   "execution_count": null,
   "id": "5f17855f",
   "metadata": {},
   "outputs": [],
   "source": [
    "WnvPresent_prob_list = gs_oulgb.predict_proba(X_submission)\n",
    "df_test['WnvPresent'] = [list(t) for t in zip(*WnvPresent_prob_list)][1]\n",
    "df_submission=df_test[['Id','WnvPresent']]\n",
    "df_submission.to_csv(\"../assets/submission.csv\",index=False)\n",
    "sns.histplot(df_submission['WnvPresent'])"
   ]
  },
  {
   "cell_type": "code",
   "execution_count": null,
   "id": "c6d6664f",
   "metadata": {},
   "outputs": [],
   "source": []
  },
  {
   "cell_type": "code",
   "execution_count": null,
   "id": "d82f09bc",
   "metadata": {},
   "outputs": [],
   "source": [
    "p=0.05\n",
    "r=1\n",
    "f1 = 2*(p*r)/(p+r)\n",
    "print(f1)"
   ]
  },
  {
   "cell_type": "code",
   "execution_count": null,
   "id": "2157e9d5",
   "metadata": {},
   "outputs": [],
   "source": []
  }
 ],
 "metadata": {
  "kernelspec": {
   "display_name": "Python 3 (ipykernel)",
   "language": "python",
   "name": "python3"
  },
  "language_info": {
   "codemirror_mode": {
    "name": "ipython",
    "version": 3
   },
   "file_extension": ".py",
   "mimetype": "text/x-python",
   "name": "python",
   "nbconvert_exporter": "python",
   "pygments_lexer": "ipython3",
   "version": "3.9.7"
  }
 },
 "nbformat": 4,
 "nbformat_minor": 5
}
