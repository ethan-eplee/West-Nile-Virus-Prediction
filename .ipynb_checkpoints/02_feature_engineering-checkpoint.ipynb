{
 "cells": [
  {
   "cell_type": "markdown",
   "id": "ff8b1c32",
   "metadata": {},
   "source": [
    "<img src=\"http://imgur.com/1ZcRyrc.png\" style=\"float: left; margin: 20px; height: 55px\">\n",
    "\n",
    "# Project 4 : West Nile Virus Prediction\n",
    "### Notebook 2 of 4: Feature Engineering"
   ]
  },
  {
   "cell_type": "markdown",
   "id": "9ce96f7a",
   "metadata": {},
   "source": [
    "## Contents:\n",
    "- [Import Libraries](#Import-Libraries)\n",
    "- [Define functions](#Define-functions)\n",
    "- [Import data from Pickle](#Import-data-from-Pickle)\n",
    "- [Feature Engineering](#Feature-Engineering)\n",
    "- [Pickle data](#Pickle-data)"
   ]
  },
  {
   "cell_type": "markdown",
   "id": "9d726ce2",
   "metadata": {},
   "source": [
    "# Import Libraries\n",
    "*Back to [Contents](#Contents:)*"
   ]
  },
  {
   "cell_type": "code",
   "execution_count": 1,
   "id": "f102b1f7",
   "metadata": {},
   "outputs": [],
   "source": [
    "# Imports:\n",
    "import numpy as np\n",
    "import pandas as pd\n",
    "pd.options.display.float_format = '{:,.2f}'.format\n",
    "pd.options.mode.chained_assignment = None \n",
    "\n",
    "%matplotlib inline\n",
    "import matplotlib.pyplot as plt\n",
    "import seaborn as sns\n",
    "\n",
    "from sklearn.model_selection import train_test_split\n",
    "from sklearn.pipeline import Pipeline\n",
    "\n",
    "from sklearn.metrics import mean_squared_error, mean_absolute_error\n",
    "from sklearn.preprocessing import MinMaxScaler, StandardScaler, RobustScaler\n",
    "from sklearn.inspection import partial_dependence, PartialDependenceDisplay\n",
    "\n",
    "from sklearn import metrics\n",
    "from sklearn.metrics import f1_score, accuracy_score, roc_auc_score\n",
    "from sklearn.metrics import confusion_matrix, plot_confusion_matrix, ConfusionMatrixDisplay, RocCurveDisplay\n",
    "\n",
    "from sklearn.ensemble import RandomForestClassifier, GradientBoostingClassifier\n",
    "\n",
    "from sklearn.model_selection import TimeSeriesSplit, GridSearchCV\n",
    "\n",
    "from imblearn.pipeline import Pipeline \n",
    "from imblearn.over_sampling import RandomOverSampler\n",
    "from imblearn.under_sampling import RandomUnderSampler \n",
    "\n",
    "from sklearn.cluster import KMeans\n",
    "\n",
    "import lightgbm as lgb\n",
    "\n",
    "import pickle\n",
    "\n",
    "import warnings\n",
    "warnings.simplefilter(action='ignore', category=FutureWarning)\n",
    "warnings.filterwarnings(\"ignore\", category=DeprecationWarning) \n",
    "\n",
    "get_ipython().run_line_magic('matplotlib', 'inline')\n",
    "\n",
    "pd.options.display.max_columns = None\n",
    "pd.options.display.max_rows = None\n",
    "\n",
    "import geopandas as gpd\n",
    "\n",
    "import datetime"
   ]
  },
  {
   "cell_type": "code",
   "execution_count": 2,
   "id": "033348c4",
   "metadata": {},
   "outputs": [],
   "source": [
    "#steps to install geopandas\n",
    "\n",
    "#!pip install pipwin\n",
    "#!pipwin install gdal\n",
    "#!pipwin install fiona\n",
    "#!pip install geopandas\n",
    "#!pipwin install rasterio\n",
    "#!pip install contextily"
   ]
  },
  {
   "cell_type": "code",
   "execution_count": 3,
   "id": "88188dc6",
   "metadata": {},
   "outputs": [],
   "source": [
    "#!pip install imblearn"
   ]
  },
  {
   "cell_type": "code",
   "execution_count": 4,
   "id": "d21e5efe",
   "metadata": {},
   "outputs": [],
   "source": [
    "#!pip install lightgbm"
   ]
  },
  {
   "cell_type": "markdown",
   "id": "ff5d43b0",
   "metadata": {},
   "source": [
    "## Define functions\n",
    "- get_weather_data (takes in weather station number, flag, weather feature, lag and return result based on flag)\n",
    "- add_weather_features (add in numeric weather features to either the train or test data)\n",
    "- distance (to calculate distance between two coordinates)\n",
    "- near_station (applied to a dataframe to determine if a location is nearer to Station 1 or 2)\n",
    "\n",
    "*Back to [Contents](#Contents:)*"
   ]
  },
  {
   "cell_type": "code",
   "execution_count": 5,
   "id": "e73fcda0",
   "metadata": {},
   "outputs": [],
   "source": [
    "def get_weather_data(station =1, # station ID\n",
    "                     flag = 1,  # 1: shift, 2: rolling avg, 3: rolling max\n",
    "                     feature = None, \n",
    "                     k=0 # lagged days\n",
    "                    ):\n",
    "    \n",
    "    # if lagged days == 0, just return the feature data directly\n",
    "    if k == 0:\n",
    "        if station == 1 :\n",
    "            return df_weather_1[feature]\n",
    "        else:\n",
    "            return df_weather_2[feature]\n",
    "    else:\n",
    "        if flag == 1: # shift the feature, and return the result column\n",
    "             if station == 1 :\n",
    "                return df_weather_1[feature].shift(k).rename(columns={feature[0]:f'{feature[0]}-{k}'})\n",
    "             else:\n",
    "                return df_weather_2[feature].shift(k).rename(columns={feature[0]:f'{feature[0]}-{k}'})\n",
    "            \n",
    "        elif flag == 2: # averge the feature in a rolling period and return the result column \n",
    "             if station == 1 :\n",
    "                return df_weather_1[feature].rolling(k).mean().rename(columns={feature[0]:f'{feature[0]}-avg-{k}'})\n",
    "             else:\n",
    "                return df_weather_2[feature].rolling(k).mean().rename(columns={feature[0]:f'{feature[0]}-avg-{k}'})\n",
    "            \n",
    "        elif flag == 3: # find the max value of the feature in a rolling period and return the result column\n",
    "             if station == 1 :\n",
    "                return df_weather_1[feature].rolling(k).max().rename(columns={feature[0]:f'{feature[0]}-max-{k}'})\n",
    "             else:\n",
    "                return df_weather_2[feature].rolling(k).max().rename(columns={feature[0]:f'{feature[0]}-max-{k}'})"
   ]
  },
  {
   "cell_type": "code",
   "execution_count": 6,
   "id": "5f5bac52",
   "metadata": {},
   "outputs": [],
   "source": [
    "def add_weather_features(df, \n",
    "                         weather_features_shift=None,  #dictionary\n",
    "                         weather_features_avg=None,\n",
    "                         weather_features_max=None\n",
    "                        ):\n",
    "    df['id_'] = df.index\n",
    "    df1 = df.query(\"Station==1\")\n",
    "    df2 = df.query(\"Station==2\")\n",
    "    \n",
    "    features_numeric_weather = [\"Tmax\",\"Tmin\",\"Tavg\",'DewPoint',\"Sunrise\",\n",
    "                                 \"Sunset\",'Day_length','PrecipTotal','ResultSpeed']                       \n",
    "                             \n",
    "    df1 = pd.merge(df1, df_weather_1[features_numeric_weather],on='Date',how='inner')\n",
    "    df2 = pd.merge(df2, df_weather_2[features_numeric_weather],on='Date',how='inner')\n",
    "    \n",
    "    if weather_features_shift !=None:\n",
    "        for key, value in weather_features_shift.items():\n",
    "            result_feature_column_1 = get_weather_data(1,1,[key],value)\n",
    "            df1 = pd.merge(df1,result_feature_column_1,on='Date',how='inner')\n",
    "\n",
    "            result_feature_column_2 = get_weather_data(2,1,[key],value)\n",
    "            df2 = pd.merge(df2,result_feature_column_2,on='Date',how='inner')\n",
    "\n",
    "    if weather_features_avg !=None:\n",
    "        for key, value in weather_features_avg.items():\n",
    "            result_feature_column_1 = get_weather_data(1,2,[key],value)\n",
    "            df1 = pd.merge(df1,result_feature_column_1,on='Date',how='inner')\n",
    "\n",
    "            result_feature_column_2 = get_weather_data(2,2,[key],value)\n",
    "            df2 = pd.merge(df2,result_feature_column_2,on='Date',how='inner')\n",
    "            \n",
    "    if weather_features_max !=None:\n",
    "        for key, value in weather_features_max.items():\n",
    "            result_feature_column_1 = get_weather_data(1,3,[key],value)\n",
    "            df1 = pd.merge(df1,result_feature_column_1,on='Date',how='inner')\n",
    "\n",
    "            result_feature_column_2 = get_weather_data(2,3,[key],value)\n",
    "            df2 = pd.merge(df2,result_feature_column_2,on='Date',how='inner')\n",
    "\n",
    "    df_final = pd.concat([df1, df2], sort=False)\n",
    "    df_final.set_index('id_', drop=True, inplace=True)\n",
    "    df_final.sort_index(inplace=True)\n",
    "\n",
    "    return  df_final"
   ]
  },
  {
   "cell_type": "code",
   "execution_count": 7,
   "id": "a72d578c",
   "metadata": {},
   "outputs": [],
   "source": [
    "from math import radians, cos, sin, asin, sqrt\n",
    "def distance(lat1, lat2, lon1, lon2):\n",
    "     \n",
    "    # The math module contains a function named\n",
    "    # radians which converts from degrees to radians.\n",
    "    lon1 = radians(lon1)\n",
    "    lon2 = radians(lon2)\n",
    "    lat1 = radians(lat1)\n",
    "    lat2 = radians(lat2)\n",
    "      \n",
    "    # Haversine formula\n",
    "    dlon = lon2 - lon1\n",
    "    dlat = lat2 - lat1\n",
    "    a = sin(dlat / 2)**2 + cos(lat1) * cos(lat2) * sin(dlon / 2)**2\n",
    " \n",
    "    c = 2 * asin(sqrt(a))\n",
    "    \n",
    "    # Radius of earth in kilometers. Use 3956 for miles\n",
    "    r = 6371\n",
    "      \n",
    "    # calculate the result\n",
    "    return(c * r)"
   ]
  },
  {
   "cell_type": "markdown",
   "id": "8da45529",
   "metadata": {},
   "source": [
    "**Reference for distance function above**: https://www.geeksforgeeks.org/program-distance-two-points-earth/#:~:text=For%20this%20divide%20the%20values,is%20the%20radius%20of%20Earth<br>\n",
    "(Python 3 program to calculate Distance Between Two Points on Earth)"
   ]
  },
  {
   "cell_type": "code",
   "execution_count": 8,
   "id": "e8b5fe20",
   "metadata": {},
   "outputs": [],
   "source": [
    "# the function will find if a location is nearer to Station 1 or 2\n",
    "# it is to be used in dataframe.apply()\n",
    "\n",
    "def near_station(row  # a row of record in a dataframe\n",
    "                ):\n",
    "    lat = row['Latitude']\n",
    "    lon = row['Longitude']\n",
    "    station1_lat = 41.995\n",
    "    station1_lon = -87.933\n",
    "    station2_lat = 41.786\n",
    "    station2_lon = -87.752\n",
    "    \n",
    "    if distance(lat, station1_lat, lon, station1_lon) < distance(lat, station2_lat, lon, station2_lon):\n",
    "        return 1\n",
    "    else:\n",
    "        return 2"
   ]
  },
  {
   "cell_type": "markdown",
   "id": "0a9b184c",
   "metadata": {},
   "source": [
    "# Import data from Pickle\n",
    "*Back to [Contents](#Contents:)*"
   ]
  },
  {
   "cell_type": "code",
   "execution_count": 9,
   "id": "53a5123a",
   "metadata": {},
   "outputs": [],
   "source": [
    "# read pickle_dict, which stores everything from previous notebook\n",
    "\n",
    "pickle_dict1 = pickle.load(open('./assets/data1.pkl', 'rb'))\n",
    "df_train = pickle_dict1['df_train']\n",
    "df_test = pickle_dict1['df_test']\n",
    "df_spray = pickle_dict1['df_spray']\n",
    "df_weather_1 = pickle_dict1['df_weather_1']\n",
    "df_weather_2 = pickle_dict1['df_weather_2']"
   ]
  },
  {
   "cell_type": "markdown",
   "id": "93c5f440",
   "metadata": {},
   "source": [
    "# Feature Engineering\n",
    "- Species: \n",
    "    - All species which do not carry the West Nile Virus will be regrouped to 'OTHERS'\n",
    "    - Convert the categorical feature of Species into dummy variables\n",
    "<br>\n",
    "- Traps:\n",
    "    - Cluster all traps based on their locations to simplify analysis (we will try with 30 clusters)\n",
    "    - Convert this categorical feature of Trap Clusters into dummy variables\n",
    "<br>    \n",
    "- Weather data\n",
    "    - To decide on transformation of weather features: whether to shift, apply rolling-mean or rolling-max\n",
    "    - Once transformation is done, add those weather features to Train set\n",
    "    \n",
    " *Back to [Contents](#Contents:)*"
   ]
  },
  {
   "cell_type": "markdown",
   "id": "debb46dc",
   "metadata": {},
   "source": [
    "### Feature engineering on Species\n",
    "- All species which do not carry the West Nile Virus will be regrouped to 'OTHERS'\n",
    "- Convert the categorical feature of Species into dummy variables"
   ]
  },
  {
   "cell_type": "code",
   "execution_count": 10,
   "id": "d4b037f6",
   "metadata": {},
   "outputs": [],
   "source": [
    "# define a list of mosquito species to keep\n",
    "species_to_keep = ['CULEX PIPIENS', 'CULEX PIPIENS/RESTUANS', 'CULEX RESTUANS']\n",
    "\n",
    "# for Train data\n",
    "df_train.loc[:,['Species']] = np.where(df_train['Species'].isin(species_to_keep), df_train['Species'], 'OTHERS')\n",
    "\n",
    "# for Test submission\n",
    "df_test.loc[:,['Species']] = np.where(df_test['Species'].isin(species_to_keep), df_test['Species'], 'OTHERS')"
   ]
  },
  {
   "cell_type": "code",
   "execution_count": 11,
   "id": "26759fa2",
   "metadata": {},
   "outputs": [],
   "source": [
    "# for Train data\n",
    "df_train = pd.get_dummies(columns=[\"Species\"], data=df_train, drop_first=True)\n",
    "\n",
    "# for Test submission\n",
    "df_test = pd.get_dummies(columns=[\"Species\"], data=df_test, drop_first=True)"
   ]
  },
  {
   "cell_type": "markdown",
   "id": "3e4abd6c",
   "metadata": {},
   "source": [
    "### Feature engineering on Trap locations\n",
    "- Cluster all traps based on their locations to simplify analysis (we will try with 30 clusters)\n",
    "- Convert this categorical feature of Trap Clusters into dummy variables"
   ]
  },
  {
   "cell_type": "code",
   "execution_count": 12,
   "id": "9cae10f0",
   "metadata": {},
   "outputs": [
    {
     "data": {
      "image/png": "[encoded data removed]",
      "text/plain": [
       "<Figure size 720x1152 with 1 Axes>"
      ]
     },
     "metadata": {
      "needs_background": "light"
     },
     "output_type": "display_data"
    }
   ],
   "source": [
    "# plot all traps locations\n",
    "fig, ax = plt.subplots(1, figsize=(10,16))\n",
    "sns.scatterplot(data=df_train, x='Latitude', y='Longitude', palette=\"muted\");"
   ]
  },
  {
   "cell_type": "code",
   "execution_count": 13,
   "id": "271b3c38",
   "metadata": {},
   "outputs": [],
   "source": [
    "# Prepare X matrix\n",
    "X = df_train.loc[:, ['Latitude', 'Longitude']]\n",
    "\n",
    "# for Test submission\n",
    "X_test = df_test.loc[:, ['Latitude', 'Longitude']]"
   ]
  },
  {
   "cell_type": "code",
   "execution_count": 14,
   "id": "a9b4d01a",
   "metadata": {},
   "outputs": [
    {
     "data": {
      "text/html": [
       "<style>#sk-container-id-1 {color: black;background-color: white;}#sk-container-id-1 pre{padding: 0;}#sk-container-id-1 div.sk-toggleable {background-color: white;}#sk-container-id-1 label.sk-toggleable__label {cursor: pointer;display: block;width: 100%;margin-bottom: 0;padding: 0.3em;box-sizing: border-box;text-align: center;}#sk-container-id-1 label.sk-toggleable__label-arrow:before {content: \"▸\";float: left;margin-right: 0.25em;color: #696969;}#sk-container-id-1 label.sk-toggleable__label-arrow:hover:before {color: black;}#sk-container-id-1 div.sk-estimator:hover label.sk-toggleable__label-arrow:before {color: black;}#sk-container-id-1 div.sk-toggleable__content {max-height: 0;max-width: 0;overflow: hidden;text-align: left;background-color: #f0f8ff;}#sk-container-id-1 div.sk-toggleable__content pre {margin: 0.2em;color: black;border-radius: 0.25em;background-color: #f0f8ff;}#sk-container-id-1 input.sk-toggleable__control:checked~div.sk-toggleable__content {max-height: 200px;max-width: 100%;overflow: auto;}#sk-container-id-1 input.sk-toggleable__control:checked~label.sk-toggleable__label-arrow:before {content: \"▾\";}#sk-container-id-1 div.sk-estimator input.sk-toggleable__control:checked~label.sk-toggleable__label {background-color: #d4ebff;}#sk-container-id-1 div.sk-label input.sk-toggleable__control:checked~label.sk-toggleable__label {background-color: #d4ebff;}#sk-container-id-1 input.sk-hidden--visually {border: 0;clip: rect(1px 1px 1px 1px);clip: rect(1px, 1px, 1px, 1px);height: 1px;margin: -1px;overflow: hidden;padding: 0;position: absolute;width: 1px;}#sk-container-id-1 div.sk-estimator {font-family: monospace;background-color: #f0f8ff;border: 1px dotted black;border-radius: 0.25em;box-sizing: border-box;margin-bottom: 0.5em;}#sk-container-id-1 div.sk-estimator:hover {background-color: #d4ebff;}#sk-container-id-1 div.sk-parallel-item::after {content: \"\";width: 100%;border-bottom: 1px solid gray;flex-grow: 1;}#sk-container-id-1 div.sk-label:hover label.sk-toggleable__label {background-color: #d4ebff;}#sk-container-id-1 div.sk-serial::before {content: \"\";position: absolute;border-left: 1px solid gray;box-sizing: border-box;top: 0;bottom: 0;left: 50%;z-index: 0;}#sk-container-id-1 div.sk-serial {display: flex;flex-direction: column;align-items: center;background-color: white;padding-right: 0.2em;padding-left: 0.2em;position: relative;}#sk-container-id-1 div.sk-item {position: relative;z-index: 1;}#sk-container-id-1 div.sk-parallel {display: flex;align-items: stretch;justify-content: center;background-color: white;position: relative;}#sk-container-id-1 div.sk-item::before, #sk-container-id-1 div.sk-parallel-item::before {content: \"\";position: absolute;border-left: 1px solid gray;box-sizing: border-box;top: 0;bottom: 0;left: 50%;z-index: -1;}#sk-container-id-1 div.sk-parallel-item {display: flex;flex-direction: column;z-index: 1;position: relative;background-color: white;}#sk-container-id-1 div.sk-parallel-item:first-child::after {align-self: flex-end;width: 50%;}#sk-container-id-1 div.sk-parallel-item:last-child::after {align-self: flex-start;width: 50%;}#sk-container-id-1 div.sk-parallel-item:only-child::after {width: 0;}#sk-container-id-1 div.sk-dashed-wrapped {border: 1px dashed gray;margin: 0 0.4em 0.5em 0.4em;box-sizing: border-box;padding-bottom: 0.4em;background-color: white;}#sk-container-id-1 div.sk-label label {font-family: monospace;font-weight: bold;display: inline-block;line-height: 1.2em;}#sk-container-id-1 div.sk-label-container {text-align: center;}#sk-container-id-1 div.sk-container {/* jupyter's `normalize.less` sets `[hidden] { display: none; }` but bootstrap.min.css set `[hidden] { display: none !important; }` so we also need the `!important` here to be able to override the default hidden behavior on the sphinx rendered scikit-learn.org. See: https://github.com/scikit-learn/scikit-learn/issues/21755 */display: inline-block !important;position: relative;}#sk-container-id-1 div.sk-text-repr-fallback {display: none;}</style><div id=\"sk-container-id-1\" class=\"sk-top-container\"><div class=\"sk-text-repr-fallback\"><pre>KMeans(n_clusters=30, random_state=42)</pre><b>In a Jupyter environment, please rerun this cell to show the HTML representation or trust the notebook. <br />On GitHub, the HTML representation is unable to render, please try loading this page with nbviewer.org.</b></div><div class=\"sk-container\" hidden><div class=\"sk-item\"><div class=\"sk-estimator sk-toggleable\"><input class=\"sk-toggleable__control sk-hidden--visually\" id=\"sk-estimator-id-1\" type=\"checkbox\" checked><label for=\"sk-estimator-id-1\" class=\"sk-toggleable__label sk-toggleable__label-arrow\">KMeans</label><div class=\"sk-toggleable__content\"><pre>KMeans(n_clusters=30, random_state=42)</pre></div></div></div></div></div>"
      ],
      "text/plain": [
       "KMeans(n_clusters=30, random_state=42)"
      ]
     },
     "execution_count": 14,
     "metadata": {},
     "output_type": "execute_result"
    }
   ],
   "source": [
    "# Instatiate KMeans clustering with 30 clusters\n",
    "km = KMeans(n_clusters=30, random_state=42)\n",
    "\n",
    "# Fit our train set to KMeans algorithm\n",
    "km.fit(X)"
   ]
  },
  {
   "cell_type": "code",
   "execution_count": 15,
   "id": "33c7e203",
   "metadata": {},
   "outputs": [
    {
     "data": {
      "text/plain": [
       "array([[ 41.97671976, -87.74650368],\n",
       "       [ 41.76410356, -87.60413316],\n",
       "       [ 41.9764036 , -87.88795283],\n",
       "       [ 41.81609879, -87.6731264 ],\n",
       "       [ 41.72610751, -87.65870889],\n",
       "       [ 41.692987  , -87.562828  ],\n",
       "       [ 41.89336897, -87.654814  ],\n",
       "       [ 41.91287139, -87.74556978],\n",
       "       [ 41.78789927, -87.76624012],\n",
       "       [ 41.95935416, -87.80618051],\n",
       "       [ 41.99959506, -87.67910765],\n",
       "       [ 41.662014  , -87.724608  ],\n",
       "       [ 41.72694528, -87.58945653],\n",
       "       [ 41.80955606, -87.72762192],\n",
       "       [ 41.67338941, -87.59995427],\n",
       "       [ 41.90941666, -87.67818734],\n",
       "       [ 41.75351024, -87.73693499],\n",
       "       [ 42.00509324, -87.78956703],\n",
       "       [ 41.8593489 , -87.701687  ],\n",
       "       [ 41.91189618, -87.70641409],\n",
       "       [ 41.76802369, -87.69394015],\n",
       "       [ 41.92435454, -87.79390506],\n",
       "       [ 41.957799  , -87.930995  ],\n",
       "       [ 41.91768068, -87.62919107],\n",
       "       [ 41.74459434, -87.55102995],\n",
       "       [ 41.69017459, -87.69846825],\n",
       "       [ 41.67994474, -87.5360626 ],\n",
       "       [ 41.86870493, -87.6517661 ],\n",
       "       [ 41.95498395, -87.70273773],\n",
       "       [ 41.80251449, -87.64368219]])"
      ]
     },
     "execution_count": 15,
     "metadata": {},
     "output_type": "execute_result"
    }
   ],
   "source": [
    "# Check out the cluster centroids\n",
    "km.cluster_centers_"
   ]
  },
  {
   "cell_type": "code",
   "execution_count": 16,
   "id": "04355273",
   "metadata": {},
   "outputs": [],
   "source": [
    "# store cluster centers into a list\n",
    "centroid_list = km.cluster_centers_.tolist()"
   ]
  },
  {
   "cell_type": "code",
   "execution_count": 17,
   "id": "fd5bbb16",
   "metadata": {
    "scrolled": true
   },
   "outputs": [],
   "source": [
    "# use the unpacking operator * to unzip the data, creating two different lists\n",
    "# past the two different lists into a dataframe\n",
    "df_clusters = pd.DataFrame(list(zip(*centroid_list)))"
   ]
  },
  {
   "cell_type": "code",
   "execution_count": 18,
   "id": "c50afd0e",
   "metadata": {},
   "outputs": [],
   "source": [
    "df_clusters = df_clusters.T"
   ]
  },
  {
   "cell_type": "code",
   "execution_count": 19,
   "id": "d1e2608d",
   "metadata": {},
   "outputs": [],
   "source": [
    "# for Train data\n",
    "df_train['trap_cluster'] = km.labels_\n",
    "\n",
    "# for Test submission\n",
    "df_test['trap_cluster'] = km.predict(X_test)"
   ]
  },
  {
   "cell_type": "code",
   "execution_count": 20,
   "id": "de6f8591",
   "metadata": {
    "scrolled": false
   },
   "outputs": [
    {
     "data": {
      "image/png": "[encoded data removed]",
      "text/plain": [
       "<Figure size 720x1152 with 1 Axes>"
      ]
     },
     "metadata": {
      "needs_background": "light"
     },
     "output_type": "display_data"
    }
   ],
   "source": [
    "fig,ax=plt.subplots(1, figsize=(10,16))\n",
    "sns.scatterplot(data=df_train, x='Latitude', y='Longitude', hue='trap_cluster',\n",
    "                palette=\"muted\", markers={x:x for x in range(30)})\n",
    "plt.legend(loc='upper right');"
   ]
  },
  {
   "cell_type": "markdown",
   "id": "b1481787",
   "metadata": {},
   "source": [
    "**Since the algorithm has helped us to decide on the clusters and we are unable to derive further insights from how/why it has been clustered in such a manner, we will proceed to convert the clusters in dummy variables for the next stage.**"
   ]
  },
  {
   "cell_type": "code",
   "execution_count": 21,
   "id": "c9477dc7",
   "metadata": {},
   "outputs": [],
   "source": [
    "# convert trap clusters to dummy variables for Train data\n",
    "df_train = pd.get_dummies(columns=[\"trap_cluster\"], data=df_train, drop_first=True)\n",
    "\n",
    "# for Test submission\n",
    "df_test = pd.get_dummies(columns=[\"trap_cluster\"], data=df_test, drop_first=True)"
   ]
  },
  {
   "cell_type": "markdown",
   "id": "8cf3f08f",
   "metadata": {},
   "source": [
    "### Feature engineering on Weather data\n",
    "- Create new column \"Station\" to indicate which weather station a trap is closer to\n",
    "- To decide on transformation of weather features: whether to shift, apply rolling-mean or rolling-max\n",
    "- Once transformation is done, add those weather features to Train set"
   ]
  },
  {
   "cell_type": "code",
   "execution_count": 22,
   "id": "b0e5b0f3",
   "metadata": {},
   "outputs": [],
   "source": [
    "# apply near_station function to Train data\n",
    "df_train['Station']= df_train.apply(near_station, axis=1)\n",
    "\n",
    "# for Test submission\n",
    "df_test['Station']= df_test.apply(near_station, axis=1)"
   ]
  },
  {
   "cell_type": "code",
   "execution_count": 23,
   "id": "c7267f11",
   "metadata": {},
   "outputs": [],
   "source": [
    "# Over here we apply transformation to the weather data, where k is the day lag for each weather feature.\n",
    "# 3 kinds of transformation we will apply: shifting, rolling mean and rolling max\n",
    "\n",
    "k2 = 6\n",
    "weather_features_shift = {\"Tmax\" : k2,\n",
    "                          \"Tmin\" : k2,\n",
    "                          \"Tavg\" : k2,\n",
    "                          \"DewPoint\" : k2,\n",
    "                          \"Sunrise\" : k2,\n",
    "                          \"Sunset\"  : k2,\n",
    "                          \"Day_length\" : k2,\n",
    "                          \"PrecipTotal\" : k2,\n",
    "                          \"ResultSpeed\" : k2\n",
    "                           }\n",
    "    \n",
    "    \n",
    "k2 = 12\n",
    "weather_features_rollingmean = {\"Tmax\" : k2,\n",
    "                                \"Tmin\" : k2,\n",
    "                                \"Tavg\" : k2,\n",
    "                                \"DewPoint\" : k2,\n",
    "                                \"Sunrise\" : k2,\n",
    "                                \"Sunset\"  : k2,\n",
    "                                \"Day_length\" : k2,\n",
    "                                \"PrecipTotal\" : k2,\n",
    "                                \"ResultSpeed\" : k2\n",
    "                           }\n",
    "\n",
    "k3 = 14\n",
    "weather_features_rollingMax = {  \"Tmax\" : k3,  \n",
    "                                 \"Tmin\" : k3,\n",
    "                                 \"Tavg\" : k3,\n",
    "                                 'DewPoint' :k3,\n",
    "                                 \"Sunrise\" : k3,\n",
    "                                 \"Sunset\"  : k3,\n",
    "                                 'Day_length' : k3,\n",
    "                                 'PrecipTotal' : k3,\n",
    "                                 'ResultSpeed' : k3\n",
    "                           }\n",
    "\n",
    "# Over here we will create the final dataset to be used in subsequent notebooks\n",
    "# We will merge the transformed weather features with the original Train data\n",
    "df_final = add_weather_features(df_train, \n",
    "                                weather_features_shift,\n",
    "                                weather_features_rollingmean,\n",
    "                                weather_features_rollingMax)\n",
    "\n",
    "# Do the same for the Test data\n",
    "df_final_submission = add_weather_features(df_test,\n",
    "                                           weather_features_shift,\n",
    "                                           weather_features_rollingmean,\n",
    "                                           weather_features_rollingMax)"
   ]
  },
  {
   "cell_type": "code",
   "execution_count": 24,
   "id": "5ee8a92e",
   "metadata": {},
   "outputs": [
    {
     "data": {
      "text/plain": [
       "(10506, 86)"
      ]
     },
     "execution_count": 24,
     "metadata": {},
     "output_type": "execute_result"
    }
   ],
   "source": [
    "df_final.shape"
   ]
  },
  {
   "cell_type": "code",
   "execution_count": 25,
   "id": "38c442e8",
   "metadata": {},
   "outputs": [
    {
     "data": {
      "text/plain": [
       "Index(['Date', 'Address', 'Block', 'Street', 'Trap', 'AddressNumberAndStreet',\n",
       "       'Latitude', 'Longitude', 'AddressAccuracy', 'NumMosquitos',\n",
       "       'WnvPresent', 'geometry', 'year', 'month', 'week', 'day', 'year_month',\n",
       "       'Station', 'Species_CULEX PIPIENS/RESTUANS', 'Species_CULEX RESTUANS',\n",
       "       'Species_OTHERS', 'trap_cluster_1', 'trap_cluster_2', 'trap_cluster_3',\n",
       "       'trap_cluster_4', 'trap_cluster_5', 'trap_cluster_6', 'trap_cluster_7',\n",
       "       'trap_cluster_8', 'trap_cluster_9', 'trap_cluster_10',\n",
       "       'trap_cluster_11', 'trap_cluster_12', 'trap_cluster_13',\n",
       "       'trap_cluster_14', 'trap_cluster_15', 'trap_cluster_16',\n",
       "       'trap_cluster_17', 'trap_cluster_18', 'trap_cluster_19',\n",
       "       'trap_cluster_20', 'trap_cluster_21', 'trap_cluster_22',\n",
       "       'trap_cluster_23', 'trap_cluster_24', 'trap_cluster_25',\n",
       "       'trap_cluster_26', 'trap_cluster_27', 'trap_cluster_28',\n",
       "       'trap_cluster_29', 'Tmax', 'Tmin', 'Tavg', 'DewPoint', 'Sunrise',\n",
       "       'Sunset', 'Day_length', 'PrecipTotal', 'ResultSpeed', 'Tmax-6',\n",
       "       'Tmin-6', 'Tavg-6', 'DewPoint-6', 'Sunrise-6', 'Sunset-6',\n",
       "       'Day_length-6', 'PrecipTotal-6', 'ResultSpeed-6', 'Tmax-avg-12',\n",
       "       'Tmin-avg-12', 'Tavg-avg-12', 'DewPoint-avg-12', 'Sunrise-avg-12',\n",
       "       'Sunset-avg-12', 'Day_length-avg-12', 'PrecipTotal-avg-12',\n",
       "       'ResultSpeed-avg-12', 'Tmax-max-14', 'Tmin-max-14', 'Tavg-max-14',\n",
       "       'DewPoint-max-14', 'Sunrise-max-14', 'Sunset-max-14',\n",
       "       'Day_length-max-14', 'PrecipTotal-max-14', 'ResultSpeed-max-14'],\n",
       "      dtype='object')"
      ]
     },
     "execution_count": 25,
     "metadata": {},
     "output_type": "execute_result"
    }
   ],
   "source": [
    "df_final.columns"
   ]
  },
  {
   "cell_type": "code",
   "execution_count": 26,
   "id": "645cd66c",
   "metadata": {},
   "outputs": [
    {
     "data": {
      "text/plain": [
       "Date                              0\n",
       "Address                           0\n",
       "Block                             0\n",
       "Street                            0\n",
       "Trap                              0\n",
       "AddressNumberAndStreet            0\n",
       "Latitude                          0\n",
       "Longitude                         0\n",
       "AddressAccuracy                   0\n",
       "NumMosquitos                      0\n",
       "WnvPresent                        0\n",
       "geometry                          0\n",
       "year                              0\n",
       "month                             0\n",
       "week                              0\n",
       "day                               0\n",
       "year_month                        0\n",
       "Station                           0\n",
       "Species_CULEX PIPIENS/RESTUANS    0\n",
       "Species_CULEX RESTUANS            0\n",
       "Species_OTHERS                    0\n",
       "trap_cluster_1                    0\n",
       "trap_cluster_2                    0\n",
       "trap_cluster_3                    0\n",
       "trap_cluster_4                    0\n",
       "trap_cluster_5                    0\n",
       "trap_cluster_6                    0\n",
       "trap_cluster_7                    0\n",
       "trap_cluster_8                    0\n",
       "trap_cluster_9                    0\n",
       "trap_cluster_10                   0\n",
       "trap_cluster_11                   0\n",
       "trap_cluster_12                   0\n",
       "trap_cluster_13                   0\n",
       "trap_cluster_14                   0\n",
       "trap_cluster_15                   0\n",
       "trap_cluster_16                   0\n",
       "trap_cluster_17                   0\n",
       "trap_cluster_18                   0\n",
       "trap_cluster_19                   0\n",
       "trap_cluster_20                   0\n",
       "trap_cluster_21                   0\n",
       "trap_cluster_22                   0\n",
       "trap_cluster_23                   0\n",
       "trap_cluster_24                   0\n",
       "trap_cluster_25                   0\n",
       "trap_cluster_26                   0\n",
       "trap_cluster_27                   0\n",
       "trap_cluster_28                   0\n",
       "trap_cluster_29                   0\n",
       "Tmax                              0\n",
       "Tmin                              0\n",
       "Tavg                              0\n",
       "DewPoint                          0\n",
       "Sunrise                           0\n",
       "Sunset                            0\n",
       "Day_length                        0\n",
       "PrecipTotal                       0\n",
       "ResultSpeed                       0\n",
       "Tmax-6                            0\n",
       "Tmin-6                            0\n",
       "Tavg-6                            0\n",
       "DewPoint-6                        0\n",
       "Sunrise-6                         0\n",
       "Sunset-6                          0\n",
       "Day_length-6                      0\n",
       "PrecipTotal-6                     0\n",
       "ResultSpeed-6                     0\n",
       "Tmax-avg-12                       0\n",
       "Tmin-avg-12                       0\n",
       "Tavg-avg-12                       0\n",
       "DewPoint-avg-12                   0\n",
       "Sunrise-avg-12                    0\n",
       "Sunset-avg-12                     0\n",
       "Day_length-avg-12                 0\n",
       "PrecipTotal-avg-12                0\n",
       "ResultSpeed-avg-12                0\n",
       "Tmax-max-14                       0\n",
       "Tmin-max-14                       0\n",
       "Tavg-max-14                       0\n",
       "DewPoint-max-14                   0\n",
       "Sunrise-max-14                    0\n",
       "Sunset-max-14                     0\n",
       "Day_length-max-14                 0\n",
       "PrecipTotal-max-14                0\n",
       "ResultSpeed-max-14                0\n",
       "dtype: int64"
      ]
     },
     "execution_count": 26,
     "metadata": {},
     "output_type": "execute_result"
    }
   ],
   "source": [
    "# one final check to see that the data is clean\n",
    "df_final.isnull().sum()"
   ]
  },
  {
   "cell_type": "markdown",
   "id": "2aa9bbe5",
   "metadata": {},
   "source": [
    "## Pickle data\n",
    "*Back to [Contents](#Contents:)*"
   ]
  },
  {
   "cell_type": "code",
   "execution_count": 27,
   "id": "4d03a484",
   "metadata": {},
   "outputs": [],
   "source": [
    "# Save neccessary object to pickle_dict, which will be pickled in next notebook for modeling\n",
    "pickle_dict2 = dict()\n",
    "pickle_dict2['df_train']=df_train\n",
    "pickle_dict2['df_test']=df_test\n",
    "pickle_dict2['df_final']=df_final\n",
    "pickle_dict2['df_final_submission']=df_final_submission\n",
    "pickle.dump(pickle_dict2, open('./assets/data2.pkl', 'wb'))"
   ]
  }
 ],
 "metadata": {
  "kernelspec": {
   "display_name": "Python 3 (ipykernel)",
   "language": "python",
   "name": "python3"
  },
  "language_info": {
   "codemirror_mode": {
    "name": "ipython",
    "version": 3
   },
   "file_extension": ".py",
   "mimetype": "text/x-python",
   "name": "python",
   "nbconvert_exporter": "python",
   "pygments_lexer": "ipython3",
   "version": "3.9.7"
  }
 },
 "nbformat": 4,
 "nbformat_minor": 5
}
