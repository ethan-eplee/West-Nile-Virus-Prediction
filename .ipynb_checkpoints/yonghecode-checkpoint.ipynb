{
 "cells": [
  {
   "cell_type": "markdown",
   "id": "ff8b1c32",
   "metadata": {},
   "source": [
    "# Project 4 : West-Nile-Virus-Prediction"
   ]
  },
  {
   "cell_type": "markdown",
   "id": "9ce96f7a",
   "metadata": {},
   "source": [
    "### Contents:\n",
    "- [Background](#Background)\n",
    "- [Data Import & Cleaning](#Data-Import-and-Cleaning)\n",
    "- [Further Data Cleaning](#Further-Data-Cleaning)\n",
    "- [EDA](#EDA)\n",
    "- [Feature Engineering](#Feature-Engineering)\n",
    "- [Data Preparation](#Data-Preparation)\n",
    "- [Modelling](#Modelling)\n",
    "- [Submission](#Submission)"
   ]
  },
  {
   "cell_type": "markdown",
   "id": "27c11a7b",
   "metadata": {},
   "source": [
    "## Background\n",
    "\n",
    "\n",
    "https://www.vdci.net/vector-borne-diseases/west-nile-virus-education-and-mosquito-management-to-protect-public-health/\n",
    "\n",
    "\n",
    "\n",
    "\n",
    "\n",
    "The common house mosquito, Culex pipiens (Diptera: Culicidae), which is considered the primary bridge vector of West Nile Virus (WNV) to humans, is a wide spread insect pest with medical importance and consists of two distinct bioforms, Cx. pipiens f. pipiens and Cx. pipiens f. molestus. Here, we consider the adult lifespan of male and female Cx. pipiens f. pipiens under controlled conditions at five constant temperature regimes (15, 20, 25, 27.5, and 30 °C). Our results show that adult longevity was affected by temperature, as it significantly decreased with increase in temperature. At the highest tested temperature, mean adult longevity did not exceed 12 days for both sexes and thus makes impossible the risk of WNV transmission. On the other hand at the lowest temperature, longevity was extremely high with some individuals surviving up to 129 and 132 days, males and females, respectively, and thus enable them to function as potential vectors of WNV for a prolonged period of time. As far as sex is concerned, adult females displayed a 1.2–1.4-fold longer longevity compared to the male ones. However, this difference was significant only at the lowest and highest tested temperature regime. This information is useful in determining the critical temperatures which may affect the distribution of Cx. pipiens and consequently the risk of WNV transmission. Moreover, the effect of environmental temperature should be considered when evaluating the abundance of these species.\n",
    "https://link.springer.com/article/10.1007/s00436-014-4152-x\n",
    "\n"
   ]
  },
  {
   "cell_type": "markdown",
   "id": "c85d0a2e",
   "metadata": {},
   "source": [
    "https://parasitesandvectors.biomedcentral.com/articles/10.1186/1756-3305-6-129\n",
    "\n",
    "Background Culex pipiens/restuans mosquitoes are important vectors for a variety of arthropod borne viral infections. In this study, the associations between 20 years of mosquito capture data and the time lagged environmental quantities daytime length, temperature, precipitation, relative humidity and wind speed were used to generate a predictive model for the population dynamics of this vector species. Methods Mosquito population in the study area was represented by averaged time series of mosquitos counts captured at 6 sites in Cook County (Illinois, USA). Cross-correlation maps (CCMs) were compiled to investigate the association between mosquito abundances and environmental quantities. The results obtained from the CCMs were incorporated into a Poisson regression to generate a predictive model. To optimize the predictive model the time lags obtained from the CCMs were adjusted using a genetic algorithm. Results CCMs for weekly data showed a highly positive correlation of mosquito abundances with daytime length 4 to 5 weeks prior to capture (quantified by a Spearman rank order correlation of r S  = 0. 898) and with temperature during 2 weeks prior to capture (r S  = 0. 870). Maximal negative correlations were found for wind speed averaged over 3 week prior to capture (r S  = − 0. 621). Cx. pipiens/restuans population dynamics was predicted by integrating the CCM results in Poisson regression models. They were used to simulate the average seasonal cycle of the mosquito abundance. Verification with observations resulted in a correlation of r S  = 0. 899 for daily and r S  = 0. 917 for weekly data. Applying the optimized models to the entire 20-years time series also resulted in a suitable fit with r S  = 0. 876 for daily and r S  = 0. 899 for weekly data. Conclusions The study demonstrates the application of interval lagged weather data to predict mosquito abundances with a feasible accuracy, especially when related to weekly Cx. pipiens/restuans populations.\n"
   ]
  },
  {
   "cell_type": "code",
   "execution_count": null,
   "id": "e3d87ee4",
   "metadata": {},
   "outputs": [],
   "source": []
  },
  {
   "cell_type": "code",
   "execution_count": null,
   "id": "24de7acc",
   "metadata": {},
   "outputs": [],
   "source": []
  },
  {
   "cell_type": "markdown",
   "id": "9d726ce2",
   "metadata": {},
   "source": [
    "# Import Libraries"
   ]
  },
  {
   "cell_type": "code",
   "execution_count": 1,
   "id": "f102b1f7",
   "metadata": {},
   "outputs": [],
   "source": [
    "# Imports:\n",
    "import numpy as np\n",
    "import pandas as pd\n",
    "pd.options.display.float_format = '{:,.2f}'.format\n",
    "pd.options.mode.chained_assignment = None \n",
    "\n",
    "%matplotlib inline\n",
    "import matplotlib.pyplot as plt\n",
    "import seaborn as sns\n",
    "\n",
    "from sklearn.model_selection import train_test_split\n",
    "from sklearn.pipeline import Pipeline\n",
    "\n",
    "from sklearn.metrics import mean_squared_error,mean_absolute_error\n",
    "from sklearn.preprocessing import MinMaxScaler, StandardScaler,RobustScaler\n",
    "from sklearn.inspection import partial_dependence,PartialDependenceDisplay\n",
    "\n",
    "from sklearn import metrics\n",
    "from sklearn.metrics import f1_score,confusion_matrix, plot_confusion_matrix,ConfusionMatrixDisplay,accuracy_score, RocCurveDisplay, roc_auc_score\n",
    "\n",
    "from sklearn.ensemble import RandomForestClassifier,GradientBoostingClassifier\n",
    "\n",
    "from sklearn.model_selection import TimeSeriesSplit, GridSearchCV\n",
    "\n",
    "from imblearn.pipeline import Pipeline \n",
    "from imblearn.over_sampling import RandomOverSampler\n",
    "from imblearn.under_sampling import RandomUnderSampler \n",
    "\n",
    "from sklearn.cluster import KMeans\n",
    "\n",
    "import lightgbm as lgb\n",
    "\n",
    "import pickle\n",
    "\n",
    "import warnings\n",
    "warnings.simplefilter(action='ignore', category=FutureWarning)\n",
    "warnings.filterwarnings(\"ignore\", category=DeprecationWarning) \n",
    "\n",
    "get_ipython().run_line_magic('matplotlib', 'inline')\n",
    "\n",
    "pd.options.display.max_columns = None\n",
    "pd.options.display.max_rows = None\n",
    "\n",
    "import geopandas as gpd\n",
    "\n"
   ]
  },
  {
   "cell_type": "code",
   "execution_count": 2,
   "id": "033348c4",
   "metadata": {},
   "outputs": [],
   "source": [
    "#steps to install geopandas\n",
    "\n",
    "\n",
    "#!pip install pipwin\n",
    "#!pipwin install gdal\n",
    "#!pipwin install fiona\n",
    "#!pip install geopandas\n",
    "#!pipwin install rasterio\n",
    "#pip install contextily"
   ]
  },
  {
   "cell_type": "code",
   "execution_count": 3,
   "id": "060708b0",
   "metadata": {},
   "outputs": [],
   "source": [
    "#install category_encoders if needed\n",
    "#!pip install --upgrade category_encoders"
   ]
  },
  {
   "cell_type": "code",
   "execution_count": 4,
   "id": "88188dc6",
   "metadata": {},
   "outputs": [],
   "source": [
    "#!pip install lightgbm\n",
    "#!pip install imblearn"
   ]
  },
  {
   "cell_type": "markdown",
   "id": "ff5d43b0",
   "metadata": {},
   "source": [
    "# define some functions"
   ]
  },
  {
   "cell_type": "code",
   "execution_count": 5,
   "id": "e57c6802",
   "metadata": {},
   "outputs": [],
   "source": [
    "#the\n",
    "def plot_geodata(dict_df):\n",
    "    colors = ['black','red','orange','yellow']\n",
    "    markersizes = [3, 14, 1, 5]\n",
    "    zorders = [4,3,1,2]\n",
    "    \n",
    "    fig_, ax_ = plt.subplots(figsize=(20,20))\n",
    "    \n",
    "    #plot neighborhoods map of chicago\n",
    "    geojson_file = '../assets/Boundaries_Community_Areas.geojson'\n",
    "    neighborhoods = gpd.read_file(geojson_file)\n",
    "    neighborhoods.plot(ax=ax_)\n",
    "    \n",
    "    #plot station\n",
    "    # initialize list of lists\n",
    "    list_station = [['1',  41.995,-87.933], ['2', 41.786,-87.752]]\n",
    "    # Create the pandas DataFrame\n",
    "    df_station = pd.DataFrame(list_station, columns=['Station', 'Latitude','Longitude'])\n",
    "    gdf = gpd.GeoDataFrame(df_station, geometry=gpd.points_from_xy(df_station.Longitude, df_station.Latitude))\n",
    "    gdf.plot(ax=ax_, color='purple', markersize=20,zorder=5, label=\"weather stations\")\n",
    "    \n",
    "    i=0\n",
    "    for label_df,df in dict_df.items():\n",
    "        color_ = colors[i]\n",
    "        markersize_ = markersizes[i]\n",
    "        zorder_ = zorders[i]\n",
    "        label_ = label_df\n",
    "\n",
    "        gdf = gpd.GeoDataFrame(df, geometry=gpd.points_from_xy(df.Longitude, df.Latitude))\n",
    "        gdf.plot(ax=ax_, color=color_, markersize=markersize_,zorder=zorder_, label=label_)\n",
    "        i += 1\n",
    "        \n",
    "    ax_.legend(loc='lower left', fontsize=12, markerscale=5)\n",
    "    plt.show()\n",
    "    return "
   ]
  },
  {
   "cell_type": "code",
   "execution_count": null,
   "id": "c4166c1b",
   "metadata": {},
   "outputs": [],
   "source": []
  },
  {
   "cell_type": "code",
   "execution_count": 6,
   "id": "e73fcda0",
   "metadata": {},
   "outputs": [],
   "source": [
    "def get_weather_data(station =1, # station ID\n",
    "                     flag = 1,  #1: shift, 2:rolling avg,  3: rolling max\n",
    "                     feature =None, \n",
    "                     k=0 #day lag\n",
    "                    ):\n",
    "    if k == 0:\n",
    "        if station == 1 :\n",
    "            return df_weather_1[feature]\n",
    "        else:\n",
    "            return df_weather_2[feature]\n",
    "    else:\n",
    "        if flag == 1: # to shift\n",
    "             if station == 1 :\n",
    "                return df_weather_1[feature].shift(k).rename(columns={feature[0]:f'{feature[0]}-{k}'})\n",
    "             else:\n",
    "                return df_weather_2[feature].shift(k).rename(columns={feature[0]:f'{feature[0]}-{k}'})\n",
    "        elif flag == 2: #to avg\n",
    "             if station == 1 :\n",
    "                return df_weather_1[feature].rolling(k).mean().rename(columns={feature[0]:f'{feature[0]}-avg-{k}'})\n",
    "             else:\n",
    "                return df_weather_2[feature].rolling(k).mean().rename(columns={feature[0]:f'{feature[0]}-avg-{k}'})\n",
    "        elif flag == 3: #to max\n",
    "             if station == 1 :\n",
    "                return df_weather_1[feature].rolling(k).max().rename(columns={feature[0]:f'{feature[0]}-max-{k}'})\n",
    "             else:\n",
    "                return df_weather_2[feature].rolling(k).max().rename(columns={feature[0]:f'{feature[0]}-max-{k}'})"
   ]
  },
  {
   "cell_type": "code",
   "execution_count": 7,
   "id": "5f5bac52",
   "metadata": {},
   "outputs": [],
   "source": [
    "def add_weather_features(df, \n",
    "                         weather_features_shift=None,\n",
    "                         weather_features_avg=None,\n",
    "                         weather_features_max=None\n",
    "                        ):\n",
    "    df['id_'] = df.index\n",
    "    df1 = df.query(\"Station==1\")\n",
    "    df2 = df.query(\"Station==2\")\n",
    "    \n",
    "    features_numeric_weather = [\"Tmax\",\"Tmin\",\"Tavg\",'DewPoint',\"Sunrise\",\n",
    "                                 \"Sunset\",'Day_length','PrecipTotal','ResultSpeed']                       \n",
    "                             \n",
    "    df1 = pd.merge(df1, df_weather_1[features_numeric_weather],on='Date',how='inner')\n",
    "    df2 = pd.merge(df2, df_weather_2[features_numeric_weather],on='Date',how='inner')\n",
    "    \n",
    "    #pd.merge(product,customer,on='Product_ID',how='left')\n",
    "    for key, value in weather_features_shift.items():\n",
    "        result_feature_column_1 = get_weather_data(1,1,[key],value)\n",
    "        df1 = pd.merge(df1,result_feature_column_1,on='Date',how='inner')\n",
    "        \n",
    "        result_feature_column_2 = get_weather_data(2,1,[key],value)\n",
    "        df2 = pd.merge(df2,result_feature_column_2,on='Date',how='inner')\n",
    "  \n",
    "    for key, value in weather_features_avg.items():\n",
    "        result_feature_column_1 = get_weather_data(1,2,[key],value)\n",
    "        df1 = pd.merge(df1,result_feature_column_1,on='Date',how='inner')\n",
    "        \n",
    "        result_feature_column_2 = get_weather_data(2,2,[key],value)\n",
    "        df2 = pd.merge(df2,result_feature_column_2,on='Date',how='inner')\n",
    "  \n",
    "\n",
    "    for key, value in weather_features_max.items():\n",
    "        result_feature_column_1 = get_weather_data(1,3,[key],value)\n",
    "        df1 = pd.merge(df1,result_feature_column_1,on='Date',how='inner')\n",
    "        \n",
    "        result_feature_column_2 = get_weather_data(2,3,[key],value)\n",
    "        df2 = pd.merge(df2,result_feature_column_2,on='Date',how='inner')\n",
    "  \n",
    "\n",
    "\n",
    "    df_final = pd.concat([df1, df2], sort=False)\n",
    "    df_final.set_index('id_', drop=True, inplace=True)\n",
    "    df_final.sort_index(inplace=True)\n",
    "\n",
    "    return  df_final\n",
    "        "
   ]
  },
  {
   "cell_type": "code",
   "execution_count": null,
   "id": "8a456daa",
   "metadata": {},
   "outputs": [],
   "source": []
  },
  {
   "cell_type": "code",
   "execution_count": 8,
   "id": "a72d578c",
   "metadata": {},
   "outputs": [],
   "source": [
    "# copy from https://www.geeksforgeeks.org/program-distance-two-points-earth/#:~:text=For%20this%20divide%20the%20values,is%20the%20radius%20of%20Earth.\n",
    "# Python 3 program to calculate Distance Between Two Points on Earth\n",
    "from math import radians, cos, sin, asin, sqrt\n",
    "def distance(lat1, lat2, lon1, lon2):\n",
    "     \n",
    "    # The math module contains a function named\n",
    "    # radians which converts from degrees to radians.\n",
    "    lon1 = radians(lon1)\n",
    "    lon2 = radians(lon2)\n",
    "    lat1 = radians(lat1)\n",
    "    lat2 = radians(lat2)\n",
    "      \n",
    "    # Haversine formula\n",
    "    dlon = lon2 - lon1\n",
    "    dlat = lat2 - lat1\n",
    "    a = sin(dlat / 2)**2 + cos(lat1) * cos(lat2) * sin(dlon / 2)**2\n",
    " \n",
    "    c = 2 * asin(sqrt(a))\n",
    "    \n",
    "    # Radius of earth in kilometers. Use 3956 for miles\n",
    "    r = 6371\n",
    "      \n",
    "    # calculate the result\n",
    "    return(c * r)\n",
    "     \n",
    "  "
   ]
  },
  {
   "cell_type": "code",
   "execution_count": 9,
   "id": "e8b5fe20",
   "metadata": {},
   "outputs": [],
   "source": [
    "def near_station(row):\n",
    "    lat = row['Latitude']\n",
    "    lon = row['Longitude']\n",
    "    station1_lat = 41.995\n",
    "    station1_lon =  -87.933\n",
    "    station2_lat =  41.786\n",
    "    station2_lon = -87.752\n",
    "    \n",
    "    if distance(lat, station1_lat, lon, station1_lon) < distance(lat, station2_lat, lon, station2_lon):\n",
    "        return 1\n",
    "    else:\n",
    "        return 2"
   ]
  },
  {
   "cell_type": "code",
   "execution_count": null,
   "id": "a60bb33c",
   "metadata": {},
   "outputs": [],
   "source": []
  },
  {
   "cell_type": "code",
   "execution_count": null,
   "id": "57a972e2",
   "metadata": {},
   "outputs": [],
   "source": []
  },
  {
   "cell_type": "code",
   "execution_count": 10,
   "id": "bf8f17cf",
   "metadata": {},
   "outputs": [],
   "source": [
    "#The function will:\n",
    "# 1. run the input GridSearchCV\n",
    "# 2. compute and compare the roc_auc_score, accuracy score for training data and testing data\n",
    "# 3. get and print the confusion matrix\n",
    "# 4. plot the confusion matrix and ROC curve\n",
    "\n",
    "def run_model(gs, X_train, y_train, X_test, y_test ):\n",
    "    \n",
    "    # run the input GridSearchCV\n",
    "    gs.fit(X_train, y_train)\n",
    "    \n",
    "    print(\"best_params: \")\n",
    "   # print(gs.best_params_)\n",
    "    for (item, value) in gs.best_params_.items():\n",
    "        print('   ',item, ' : ', value)\n",
    "    \n",
    "    #compute and compare the auc_score for training data and testing data\n",
    "    train_auc_score = gs.score(X_train, y_train)\n",
    "    test_auc_score = gs.score(X_test, y_test)\n",
    "    auc_perc_diff = np.abs(test_auc_score/train_auc_score*100-100)\n",
    "    \n",
    "    print(f'\\nroc_auc_score on training set: {train_auc_score:.3f}')\n",
    "    print(f'roc_auc_score on testing set: {test_auc_score:.3f}')\n",
    "    print(f'perc_diff: {auc_perc_diff:.1f} %\\n')\n",
    "    \n",
    "    # Get predictions\n",
    "    y_train_preds = gs.predict(X_train) \n",
    "    y_test_preds = gs.predict(X_test)\n",
    "    \n",
    "    #calculate the accuracy_score\n",
    "    train_f1_score =  f1_score(y_train, y_train_preds)\n",
    "    test_f1_score = f1_score(y_test, y_test_preds)\n",
    "    f1_perc_diff = np.abs(test_f1_score/train_f1_score*100-100)\n",
    "    print(f'\\nf1_score on training set: {train_f1_score:.3f}')\n",
    "    print(f'f1_score on testing set: {test_f1_score:.3f}')\n",
    "    print(f'perc_diff: {f1_perc_diff:.1f} %\\n')\n",
    "    \n",
    "    \n",
    "    \n",
    "    # Save confusion matrix values\n",
    "    print(\"confusion matrix: \")\n",
    "    cm = confusion_matrix(y_test, y_test_preds)\n",
    "    cm_df = pd.DataFrame(cm, columns=['pred No virus', 'pred WnvPresent'], \n",
    "                         index=['actual No virus', 'actual WnvPresent'])\n",
    "    print(cm_df.head())\n",
    "                    \n",
    "        \n",
    "    print(\"\\nplot confusion matrix and ROC curve\")\n",
    "    fig, (ax1, ax2) = plt.subplots(1, 2, constrained_layout=True, figsize=[10,5])\n",
    "    \n",
    "    # View confusion matrix\n",
    "    ConfusionMatrixDisplay.from_estimator(gs, X_test, y_test, ax=ax1)\n",
    "    ax1.set_title(\"confusion matrix\")\n",
    "    \n",
    "    #plot ROC curve\n",
    "    RocCurveDisplay.from_estimator(gs, X_test, y_test,ax=ax2) \n",
    "    \n",
    "    \n",
    "    #plot featureimportances\n",
    "    model = gs.best_estimator_.named_steps[\"classifier\"]\n",
    "    importances = model.feature_importances_\n",
    "    indices = np.argsort(importances)\n",
    "    fig,ax=plt.subplots(1,figsize=(10,16))\n",
    "    features = X_train.columns\n",
    "    plt.title('Feature Importances')\n",
    "    ax.barh(range(len(indices)), importances[indices], color='b', align='center')\n",
    "    plt.yticks(range(len(indices)), [features[i] for i in indices])\n",
    "    plt.xlabel('Relative Importance')\n",
    "    plt.show()"
   ]
  },
  {
   "cell_type": "code",
   "execution_count": null,
   "id": "b549ba3d",
   "metadata": {},
   "outputs": [],
   "source": []
  },
  {
   "cell_type": "code",
   "execution_count": null,
   "id": "86b59a65",
   "metadata": {},
   "outputs": [],
   "source": []
  },
  {
   "cell_type": "markdown",
   "id": "7763b84a",
   "metadata": {},
   "source": [
    "# Data Import and Cleaning"
   ]
  },
  {
   "cell_type": "code",
   "execution_count": 11,
   "id": "580c05bb",
   "metadata": {
    "scrolled": true
   },
   "outputs": [],
   "source": [
    "df_train = pd.read_csv(\"../assets/train.csv\")"
   ]
  },
  {
   "cell_type": "code",
   "execution_count": 12,
   "id": "b11fd000",
   "metadata": {},
   "outputs": [
    {
     "data": {
      "text/html": [
       "<div>\n",
       "<style scoped>\n",
       "    .dataframe tbody tr th:only-of-type {\n",
       "        vertical-align: middle;\n",
       "    }\n",
       "\n",
       "    .dataframe tbody tr th {\n",
       "        vertical-align: top;\n",
       "    }\n",
       "\n",
       "    .dataframe thead th {\n",
       "        text-align: right;\n",
       "    }\n",
       "</style>\n",
       "<table border=\"1\" class=\"dataframe\">\n",
       "  <thead>\n",
       "    <tr style=\"text-align: right;\">\n",
       "      <th></th>\n",
       "      <th>Date</th>\n",
       "      <th>Address</th>\n",
       "      <th>Species</th>\n",
       "      <th>Block</th>\n",
       "      <th>Street</th>\n",
       "      <th>Trap</th>\n",
       "      <th>AddressNumberAndStreet</th>\n",
       "      <th>Latitude</th>\n",
       "      <th>Longitude</th>\n",
       "      <th>AddressAccuracy</th>\n",
       "      <th>NumMosquitos</th>\n",
       "      <th>WnvPresent</th>\n",
       "    </tr>\n",
       "  </thead>\n",
       "  <tbody>\n",
       "    <tr>\n",
       "      <th>0</th>\n",
       "      <td>2007-05-29</td>\n",
       "      <td>4100 North Oak Park Avenue, Chicago, IL 60634,...</td>\n",
       "      <td>CULEX PIPIENS/RESTUANS</td>\n",
       "      <td>41</td>\n",
       "      <td>N OAK PARK AVE</td>\n",
       "      <td>T002</td>\n",
       "      <td>4100  N OAK PARK AVE, Chicago, IL</td>\n",
       "      <td>41.95</td>\n",
       "      <td>-87.80</td>\n",
       "      <td>9</td>\n",
       "      <td>1</td>\n",
       "      <td>0</td>\n",
       "    </tr>\n",
       "    <tr>\n",
       "      <th>1</th>\n",
       "      <td>2007-05-29</td>\n",
       "      <td>4100 North Oak Park Avenue, Chicago, IL 60634,...</td>\n",
       "      <td>CULEX RESTUANS</td>\n",
       "      <td>41</td>\n",
       "      <td>N OAK PARK AVE</td>\n",
       "      <td>T002</td>\n",
       "      <td>4100  N OAK PARK AVE, Chicago, IL</td>\n",
       "      <td>41.95</td>\n",
       "      <td>-87.80</td>\n",
       "      <td>9</td>\n",
       "      <td>1</td>\n",
       "      <td>0</td>\n",
       "    </tr>\n",
       "    <tr>\n",
       "      <th>2</th>\n",
       "      <td>2007-05-29</td>\n",
       "      <td>6200 North Mandell Avenue, Chicago, IL 60646, USA</td>\n",
       "      <td>CULEX RESTUANS</td>\n",
       "      <td>62</td>\n",
       "      <td>N MANDELL AVE</td>\n",
       "      <td>T007</td>\n",
       "      <td>6200  N MANDELL AVE, Chicago, IL</td>\n",
       "      <td>41.99</td>\n",
       "      <td>-87.77</td>\n",
       "      <td>9</td>\n",
       "      <td>1</td>\n",
       "      <td>0</td>\n",
       "    </tr>\n",
       "    <tr>\n",
       "      <th>3</th>\n",
       "      <td>2007-05-29</td>\n",
       "      <td>7900 West Foster Avenue, Chicago, IL 60656, USA</td>\n",
       "      <td>CULEX PIPIENS/RESTUANS</td>\n",
       "      <td>79</td>\n",
       "      <td>W FOSTER AVE</td>\n",
       "      <td>T015</td>\n",
       "      <td>7900  W FOSTER AVE, Chicago, IL</td>\n",
       "      <td>41.97</td>\n",
       "      <td>-87.82</td>\n",
       "      <td>8</td>\n",
       "      <td>1</td>\n",
       "      <td>0</td>\n",
       "    </tr>\n",
       "    <tr>\n",
       "      <th>4</th>\n",
       "      <td>2007-05-29</td>\n",
       "      <td>7900 West Foster Avenue, Chicago, IL 60656, USA</td>\n",
       "      <td>CULEX RESTUANS</td>\n",
       "      <td>79</td>\n",
       "      <td>W FOSTER AVE</td>\n",
       "      <td>T015</td>\n",
       "      <td>7900  W FOSTER AVE, Chicago, IL</td>\n",
       "      <td>41.97</td>\n",
       "      <td>-87.82</td>\n",
       "      <td>8</td>\n",
       "      <td>4</td>\n",
       "      <td>0</td>\n",
       "    </tr>\n",
       "  </tbody>\n",
       "</table>\n",
       "</div>"
      ],
      "text/plain": [
       "         Date                                            Address  \\\n",
       "0  2007-05-29  4100 North Oak Park Avenue, Chicago, IL 60634,...   \n",
       "1  2007-05-29  4100 North Oak Park Avenue, Chicago, IL 60634,...   \n",
       "2  2007-05-29  6200 North Mandell Avenue, Chicago, IL 60646, USA   \n",
       "3  2007-05-29    7900 West Foster Avenue, Chicago, IL 60656, USA   \n",
       "4  2007-05-29    7900 West Foster Avenue, Chicago, IL 60656, USA   \n",
       "\n",
       "                  Species  Block           Street  Trap  \\\n",
       "0  CULEX PIPIENS/RESTUANS     41   N OAK PARK AVE  T002   \n",
       "1          CULEX RESTUANS     41   N OAK PARK AVE  T002   \n",
       "2          CULEX RESTUANS     62    N MANDELL AVE  T007   \n",
       "3  CULEX PIPIENS/RESTUANS     79     W FOSTER AVE  T015   \n",
       "4          CULEX RESTUANS     79     W FOSTER AVE  T015   \n",
       "\n",
       "              AddressNumberAndStreet  Latitude  Longitude  AddressAccuracy  \\\n",
       "0  4100  N OAK PARK AVE, Chicago, IL     41.95     -87.80                9   \n",
       "1  4100  N OAK PARK AVE, Chicago, IL     41.95     -87.80                9   \n",
       "2   6200  N MANDELL AVE, Chicago, IL     41.99     -87.77                9   \n",
       "3    7900  W FOSTER AVE, Chicago, IL     41.97     -87.82                8   \n",
       "4    7900  W FOSTER AVE, Chicago, IL     41.97     -87.82                8   \n",
       "\n",
       "   NumMosquitos  WnvPresent  \n",
       "0             1           0  \n",
       "1             1           0  \n",
       "2             1           0  \n",
       "3             1           0  \n",
       "4             4           0  "
      ]
     },
     "execution_count": 12,
     "metadata": {},
     "output_type": "execute_result"
    }
   ],
   "source": [
    "df_train.head()"
   ]
  },
  {
   "cell_type": "code",
   "execution_count": 13,
   "id": "6ea5392f",
   "metadata": {},
   "outputs": [
    {
     "data": {
      "text/html": [
       "<div>\n",
       "<style scoped>\n",
       "    .dataframe tbody tr th:only-of-type {\n",
       "        vertical-align: middle;\n",
       "    }\n",
       "\n",
       "    .dataframe tbody tr th {\n",
       "        vertical-align: top;\n",
       "    }\n",
       "\n",
       "    .dataframe thead th {\n",
       "        text-align: right;\n",
       "    }\n",
       "</style>\n",
       "<table border=\"1\" class=\"dataframe\">\n",
       "  <thead>\n",
       "    <tr style=\"text-align: right;\">\n",
       "      <th></th>\n",
       "      <th>Date</th>\n",
       "      <th>Address</th>\n",
       "      <th>Block</th>\n",
       "      <th>Street</th>\n",
       "      <th>Trap</th>\n",
       "      <th>AddressNumberAndStreet</th>\n",
       "      <th>Latitude</th>\n",
       "      <th>Longitude</th>\n",
       "      <th>AddressAccuracy</th>\n",
       "      <th>NumMosquitos</th>\n",
       "      <th>WnvPresent</th>\n",
       "    </tr>\n",
       "    <tr>\n",
       "      <th>Species</th>\n",
       "      <th></th>\n",
       "      <th></th>\n",
       "      <th></th>\n",
       "      <th></th>\n",
       "      <th></th>\n",
       "      <th></th>\n",
       "      <th></th>\n",
       "      <th></th>\n",
       "      <th></th>\n",
       "      <th></th>\n",
       "      <th></th>\n",
       "    </tr>\n",
       "  </thead>\n",
       "  <tbody>\n",
       "    <tr>\n",
       "      <th>CULEX ERRATICUS</th>\n",
       "      <td>1</td>\n",
       "      <td>1</td>\n",
       "      <td>1</td>\n",
       "      <td>1</td>\n",
       "      <td>1</td>\n",
       "      <td>1</td>\n",
       "      <td>1</td>\n",
       "      <td>1</td>\n",
       "      <td>1</td>\n",
       "      <td>1</td>\n",
       "      <td>1</td>\n",
       "    </tr>\n",
       "    <tr>\n",
       "      <th>CULEX PIPIENS</th>\n",
       "      <td>2699</td>\n",
       "      <td>2699</td>\n",
       "      <td>2699</td>\n",
       "      <td>2699</td>\n",
       "      <td>2699</td>\n",
       "      <td>2699</td>\n",
       "      <td>2699</td>\n",
       "      <td>2699</td>\n",
       "      <td>2699</td>\n",
       "      <td>2699</td>\n",
       "      <td>2699</td>\n",
       "    </tr>\n",
       "    <tr>\n",
       "      <th>CULEX PIPIENS/RESTUANS</th>\n",
       "      <td>4752</td>\n",
       "      <td>4752</td>\n",
       "      <td>4752</td>\n",
       "      <td>4752</td>\n",
       "      <td>4752</td>\n",
       "      <td>4752</td>\n",
       "      <td>4752</td>\n",
       "      <td>4752</td>\n",
       "      <td>4752</td>\n",
       "      <td>4752</td>\n",
       "      <td>4752</td>\n",
       "    </tr>\n",
       "    <tr>\n",
       "      <th>CULEX RESTUANS</th>\n",
       "      <td>2740</td>\n",
       "      <td>2740</td>\n",
       "      <td>2740</td>\n",
       "      <td>2740</td>\n",
       "      <td>2740</td>\n",
       "      <td>2740</td>\n",
       "      <td>2740</td>\n",
       "      <td>2740</td>\n",
       "      <td>2740</td>\n",
       "      <td>2740</td>\n",
       "      <td>2740</td>\n",
       "    </tr>\n",
       "    <tr>\n",
       "      <th>CULEX SALINARIUS</th>\n",
       "      <td>86</td>\n",
       "      <td>86</td>\n",
       "      <td>86</td>\n",
       "      <td>86</td>\n",
       "      <td>86</td>\n",
       "      <td>86</td>\n",
       "      <td>86</td>\n",
       "      <td>86</td>\n",
       "      <td>86</td>\n",
       "      <td>86</td>\n",
       "      <td>86</td>\n",
       "    </tr>\n",
       "    <tr>\n",
       "      <th>CULEX TARSALIS</th>\n",
       "      <td>6</td>\n",
       "      <td>6</td>\n",
       "      <td>6</td>\n",
       "      <td>6</td>\n",
       "      <td>6</td>\n",
       "      <td>6</td>\n",
       "      <td>6</td>\n",
       "      <td>6</td>\n",
       "      <td>6</td>\n",
       "      <td>6</td>\n",
       "      <td>6</td>\n",
       "    </tr>\n",
       "    <tr>\n",
       "      <th>CULEX TERRITANS</th>\n",
       "      <td>222</td>\n",
       "      <td>222</td>\n",
       "      <td>222</td>\n",
       "      <td>222</td>\n",
       "      <td>222</td>\n",
       "      <td>222</td>\n",
       "      <td>222</td>\n",
       "      <td>222</td>\n",
       "      <td>222</td>\n",
       "      <td>222</td>\n",
       "      <td>222</td>\n",
       "    </tr>\n",
       "  </tbody>\n",
       "</table>\n",
       "</div>"
      ],
      "text/plain": [
       "                        Date  Address  Block  Street  Trap  \\\n",
       "Species                                                      \n",
       "CULEX ERRATICUS            1        1      1       1     1   \n",
       "CULEX PIPIENS           2699     2699   2699    2699  2699   \n",
       "CULEX PIPIENS/RESTUANS  4752     4752   4752    4752  4752   \n",
       "CULEX RESTUANS          2740     2740   2740    2740  2740   \n",
       "CULEX SALINARIUS          86       86     86      86    86   \n",
       "CULEX TARSALIS             6        6      6       6     6   \n",
       "CULEX TERRITANS          222      222    222     222   222   \n",
       "\n",
       "                        AddressNumberAndStreet  Latitude  Longitude  \\\n",
       "Species                                                               \n",
       "CULEX ERRATICUS                              1         1          1   \n",
       "CULEX PIPIENS                             2699      2699       2699   \n",
       "CULEX PIPIENS/RESTUANS                    4752      4752       4752   \n",
       "CULEX RESTUANS                            2740      2740       2740   \n",
       "CULEX SALINARIUS                            86        86         86   \n",
       "CULEX TARSALIS                               6         6          6   \n",
       "CULEX TERRITANS                            222       222        222   \n",
       "\n",
       "                        AddressAccuracy  NumMosquitos  WnvPresent  \n",
       "Species                                                            \n",
       "CULEX ERRATICUS                       1             1           1  \n",
       "CULEX PIPIENS                      2699          2699        2699  \n",
       "CULEX PIPIENS/RESTUANS             4752          4752        4752  \n",
       "CULEX RESTUANS                     2740          2740        2740  \n",
       "CULEX SALINARIUS                     86            86          86  \n",
       "CULEX TARSALIS                        6             6           6  \n",
       "CULEX TERRITANS                     222           222         222  "
      ]
     },
     "execution_count": 13,
     "metadata": {},
     "output_type": "execute_result"
    }
   ],
   "source": [
    "df_train.groupby('Species').count()"
   ]
  },
  {
   "cell_type": "code",
   "execution_count": 14,
   "id": "280f8df5",
   "metadata": {},
   "outputs": [
    {
     "data": {
      "text/html": [
       "<div>\n",
       "<style scoped>\n",
       "    .dataframe tbody tr th:only-of-type {\n",
       "        vertical-align: middle;\n",
       "    }\n",
       "\n",
       "    .dataframe tbody tr th {\n",
       "        vertical-align: top;\n",
       "    }\n",
       "\n",
       "    .dataframe thead th {\n",
       "        text-align: right;\n",
       "    }\n",
       "</style>\n",
       "<table border=\"1\" class=\"dataframe\">\n",
       "  <thead>\n",
       "    <tr style=\"text-align: right;\">\n",
       "      <th></th>\n",
       "      <th>count</th>\n",
       "      <th>mean</th>\n",
       "      <th>std</th>\n",
       "      <th>min</th>\n",
       "      <th>25%</th>\n",
       "      <th>50%</th>\n",
       "      <th>75%</th>\n",
       "      <th>max</th>\n",
       "    </tr>\n",
       "  </thead>\n",
       "  <tbody>\n",
       "    <tr>\n",
       "      <th>Block</th>\n",
       "      <td>10,506.00</td>\n",
       "      <td>35.69</td>\n",
       "      <td>24.34</td>\n",
       "      <td>10.00</td>\n",
       "      <td>12.00</td>\n",
       "      <td>33.00</td>\n",
       "      <td>52.00</td>\n",
       "      <td>98.00</td>\n",
       "    </tr>\n",
       "    <tr>\n",
       "      <th>Latitude</th>\n",
       "      <td>10,506.00</td>\n",
       "      <td>41.84</td>\n",
       "      <td>0.11</td>\n",
       "      <td>41.64</td>\n",
       "      <td>41.73</td>\n",
       "      <td>41.85</td>\n",
       "      <td>41.95</td>\n",
       "      <td>42.02</td>\n",
       "    </tr>\n",
       "    <tr>\n",
       "      <th>Longitude</th>\n",
       "      <td>10,506.00</td>\n",
       "      <td>-87.70</td>\n",
       "      <td>0.10</td>\n",
       "      <td>-87.93</td>\n",
       "      <td>-87.76</td>\n",
       "      <td>-87.69</td>\n",
       "      <td>-87.63</td>\n",
       "      <td>-87.53</td>\n",
       "    </tr>\n",
       "    <tr>\n",
       "      <th>AddressAccuracy</th>\n",
       "      <td>10,506.00</td>\n",
       "      <td>7.82</td>\n",
       "      <td>1.45</td>\n",
       "      <td>3.00</td>\n",
       "      <td>8.00</td>\n",
       "      <td>8.00</td>\n",
       "      <td>9.00</td>\n",
       "      <td>9.00</td>\n",
       "    </tr>\n",
       "    <tr>\n",
       "      <th>NumMosquitos</th>\n",
       "      <td>10,506.00</td>\n",
       "      <td>12.85</td>\n",
       "      <td>16.13</td>\n",
       "      <td>1.00</td>\n",
       "      <td>2.00</td>\n",
       "      <td>5.00</td>\n",
       "      <td>17.00</td>\n",
       "      <td>50.00</td>\n",
       "    </tr>\n",
       "    <tr>\n",
       "      <th>WnvPresent</th>\n",
       "      <td>10,506.00</td>\n",
       "      <td>0.05</td>\n",
       "      <td>0.22</td>\n",
       "      <td>0.00</td>\n",
       "      <td>0.00</td>\n",
       "      <td>0.00</td>\n",
       "      <td>0.00</td>\n",
       "      <td>1.00</td>\n",
       "    </tr>\n",
       "  </tbody>\n",
       "</table>\n",
       "</div>"
      ],
      "text/plain": [
       "                    count   mean   std    min    25%    50%    75%    max\n",
       "Block           10,506.00  35.69 24.34  10.00  12.00  33.00  52.00  98.00\n",
       "Latitude        10,506.00  41.84  0.11  41.64  41.73  41.85  41.95  42.02\n",
       "Longitude       10,506.00 -87.70  0.10 -87.93 -87.76 -87.69 -87.63 -87.53\n",
       "AddressAccuracy 10,506.00   7.82  1.45   3.00   8.00   8.00   9.00   9.00\n",
       "NumMosquitos    10,506.00  12.85 16.13   1.00   2.00   5.00  17.00  50.00\n",
       "WnvPresent      10,506.00   0.05  0.22   0.00   0.00   0.00   0.00   1.00"
      ]
     },
     "execution_count": 14,
     "metadata": {},
     "output_type": "execute_result"
    }
   ],
   "source": [
    "df_train.describe().T"
   ]
  },
  {
   "cell_type": "code",
   "execution_count": null,
   "id": "3325f45d",
   "metadata": {},
   "outputs": [],
   "source": []
  },
  {
   "cell_type": "code",
   "execution_count": 15,
   "id": "dc0bb580",
   "metadata": {},
   "outputs": [
    {
     "ename": "DriverError",
     "evalue": "../assets/Boundaries_Community_Areas.geojson: No such file or directory",
     "output_type": "error",
     "traceback": [
      "\u001b[1;31m---------------------------------------------------------------------------\u001b[0m",
      "\u001b[1;31mCPLE_OpenFailedError\u001b[0m                      Traceback (most recent call last)",
      "\u001b[1;32mfiona\\_shim.pyx\u001b[0m in \u001b[0;36mfiona._shim.gdal_open_vector\u001b[1;34m()\u001b[0m\n",
      "\u001b[1;32mfiona\\_err.pyx\u001b[0m in \u001b[0;36mfiona._err.exc_wrap_pointer\u001b[1;34m()\u001b[0m\n",
      "\u001b[1;31mCPLE_OpenFailedError\u001b[0m: ../assets/Boundaries_Community_Areas.geojson: No such file or directory",
      "\nDuring handling of the above exception, another exception occurred:\n",
      "\u001b[1;31mDriverError\u001b[0m                               Traceback (most recent call last)",
      "\u001b[1;32m~\\AppData\\Local\\Temp/ipykernel_8860/1339286961.py\u001b[0m in \u001b[0;36m<module>\u001b[1;34m\u001b[0m\n\u001b[0;32m      2\u001b[0m dict_df = {'train_data':df_train           \n\u001b[0;32m      3\u001b[0m           }\n\u001b[1;32m----> 4\u001b[1;33m \u001b[0mplot_geodata\u001b[0m\u001b[1;33m(\u001b[0m\u001b[0mdict_df\u001b[0m\u001b[1;33m)\u001b[0m\u001b[1;33m\u001b[0m\u001b[1;33m\u001b[0m\u001b[0m\n\u001b[0m",
      "\u001b[1;32m~\\AppData\\Local\\Temp/ipykernel_8860/1356382227.py\u001b[0m in \u001b[0;36mplot_geodata\u001b[1;34m(dict_df)\u001b[0m\n\u001b[0;32m      9\u001b[0m     \u001b[1;31m#plot neighborhoods map of chicago\u001b[0m\u001b[1;33m\u001b[0m\u001b[1;33m\u001b[0m\u001b[0m\n\u001b[0;32m     10\u001b[0m     \u001b[0mgeojson_file\u001b[0m \u001b[1;33m=\u001b[0m \u001b[1;34m'../assets/Boundaries_Community_Areas.geojson'\u001b[0m\u001b[1;33m\u001b[0m\u001b[1;33m\u001b[0m\u001b[0m\n\u001b[1;32m---> 11\u001b[1;33m     \u001b[0mneighborhoods\u001b[0m \u001b[1;33m=\u001b[0m \u001b[0mgpd\u001b[0m\u001b[1;33m.\u001b[0m\u001b[0mread_file\u001b[0m\u001b[1;33m(\u001b[0m\u001b[0mgeojson_file\u001b[0m\u001b[1;33m)\u001b[0m\u001b[1;33m\u001b[0m\u001b[1;33m\u001b[0m\u001b[0m\n\u001b[0m\u001b[0;32m     12\u001b[0m     \u001b[0mneighborhoods\u001b[0m\u001b[1;33m.\u001b[0m\u001b[0mplot\u001b[0m\u001b[1;33m(\u001b[0m\u001b[0max\u001b[0m\u001b[1;33m=\u001b[0m\u001b[0max_\u001b[0m\u001b[1;33m)\u001b[0m\u001b[1;33m\u001b[0m\u001b[1;33m\u001b[0m\u001b[0m\n\u001b[0;32m     13\u001b[0m \u001b[1;33m\u001b[0m\u001b[0m\n",
      "\u001b[1;32m~\\anaconda3\\lib\\site-packages\\geopandas\\io\\file.py\u001b[0m in \u001b[0;36m_read_file\u001b[1;34m(filename, bbox, mask, rows, engine, **kwargs)\u001b[0m\n\u001b[0;32m    251\u001b[0m \u001b[1;33m\u001b[0m\u001b[0m\n\u001b[0;32m    252\u001b[0m     \u001b[1;32mif\u001b[0m \u001b[0mengine\u001b[0m \u001b[1;33m==\u001b[0m \u001b[1;34m\"fiona\"\u001b[0m\u001b[1;33m:\u001b[0m\u001b[1;33m\u001b[0m\u001b[1;33m\u001b[0m\u001b[0m\n\u001b[1;32m--> 253\u001b[1;33m         return _read_file_fiona(\n\u001b[0m\u001b[0;32m    254\u001b[0m             \u001b[0mpath_or_bytes\u001b[0m\u001b[1;33m,\u001b[0m \u001b[0mfrom_bytes\u001b[0m\u001b[1;33m,\u001b[0m \u001b[0mbbox\u001b[0m\u001b[1;33m=\u001b[0m\u001b[0mbbox\u001b[0m\u001b[1;33m,\u001b[0m \u001b[0mmask\u001b[0m\u001b[1;33m=\u001b[0m\u001b[0mmask\u001b[0m\u001b[1;33m,\u001b[0m \u001b[0mrows\u001b[0m\u001b[1;33m=\u001b[0m\u001b[0mrows\u001b[0m\u001b[1;33m,\u001b[0m \u001b[1;33m**\u001b[0m\u001b[0mkwargs\u001b[0m\u001b[1;33m\u001b[0m\u001b[1;33m\u001b[0m\u001b[0m\n\u001b[0;32m    255\u001b[0m         )\n",
      "\u001b[1;32m~\\anaconda3\\lib\\site-packages\\geopandas\\io\\file.py\u001b[0m in \u001b[0;36m_read_file_fiona\u001b[1;34m(path_or_bytes, from_bytes, bbox, mask, rows, **kwargs)\u001b[0m\n\u001b[0;32m    292\u001b[0m \u001b[1;33m\u001b[0m\u001b[0m\n\u001b[0;32m    293\u001b[0m     \u001b[1;32mwith\u001b[0m \u001b[0mfiona_env\u001b[0m\u001b[1;33m(\u001b[0m\u001b[1;33m)\u001b[0m\u001b[1;33m:\u001b[0m\u001b[1;33m\u001b[0m\u001b[1;33m\u001b[0m\u001b[0m\n\u001b[1;32m--> 294\u001b[1;33m         \u001b[1;32mwith\u001b[0m \u001b[0mreader\u001b[0m\u001b[1;33m(\u001b[0m\u001b[0mpath_or_bytes\u001b[0m\u001b[1;33m,\u001b[0m \u001b[1;33m**\u001b[0m\u001b[0mkwargs\u001b[0m\u001b[1;33m)\u001b[0m \u001b[1;32mas\u001b[0m \u001b[0mfeatures\u001b[0m\u001b[1;33m:\u001b[0m\u001b[1;33m\u001b[0m\u001b[1;33m\u001b[0m\u001b[0m\n\u001b[0m\u001b[0;32m    295\u001b[0m \u001b[1;33m\u001b[0m\u001b[0m\n\u001b[0;32m    296\u001b[0m             \u001b[1;31m# In a future Fiona release the crs attribute of features will\u001b[0m\u001b[1;33m\u001b[0m\u001b[1;33m\u001b[0m\u001b[0m\n",
      "\u001b[1;32m~\\anaconda3\\lib\\site-packages\\fiona\\env.py\u001b[0m in \u001b[0;36mwrapper\u001b[1;34m(*args, **kwargs)\u001b[0m\n\u001b[0;32m    406\u001b[0m     \u001b[1;32mdef\u001b[0m \u001b[0mwrapper\u001b[0m\u001b[1;33m(\u001b[0m\u001b[1;33m*\u001b[0m\u001b[0margs\u001b[0m\u001b[1;33m,\u001b[0m \u001b[1;33m**\u001b[0m\u001b[0mkwargs\u001b[0m\u001b[1;33m)\u001b[0m\u001b[1;33m:\u001b[0m\u001b[1;33m\u001b[0m\u001b[1;33m\u001b[0m\u001b[0m\n\u001b[0;32m    407\u001b[0m         \u001b[1;32mif\u001b[0m \u001b[0mlocal\u001b[0m\u001b[1;33m.\u001b[0m\u001b[0m_env\u001b[0m\u001b[1;33m:\u001b[0m\u001b[1;33m\u001b[0m\u001b[1;33m\u001b[0m\u001b[0m\n\u001b[1;32m--> 408\u001b[1;33m             \u001b[1;32mreturn\u001b[0m \u001b[0mf\u001b[0m\u001b[1;33m(\u001b[0m\u001b[1;33m*\u001b[0m\u001b[0margs\u001b[0m\u001b[1;33m,\u001b[0m \u001b[1;33m**\u001b[0m\u001b[0mkwargs\u001b[0m\u001b[1;33m)\u001b[0m\u001b[1;33m\u001b[0m\u001b[1;33m\u001b[0m\u001b[0m\n\u001b[0m\u001b[0;32m    409\u001b[0m         \u001b[1;32melse\u001b[0m\u001b[1;33m:\u001b[0m\u001b[1;33m\u001b[0m\u001b[1;33m\u001b[0m\u001b[0m\n\u001b[0;32m    410\u001b[0m             \u001b[1;32mif\u001b[0m \u001b[0misinstance\u001b[0m\u001b[1;33m(\u001b[0m\u001b[0margs\u001b[0m\u001b[1;33m[\u001b[0m\u001b[1;36m0\u001b[0m\u001b[1;33m]\u001b[0m\u001b[1;33m,\u001b[0m \u001b[0mstr\u001b[0m\u001b[1;33m)\u001b[0m\u001b[1;33m:\u001b[0m\u001b[1;33m\u001b[0m\u001b[1;33m\u001b[0m\u001b[0m\n",
      "\u001b[1;32m~\\anaconda3\\lib\\site-packages\\fiona\\__init__.py\u001b[0m in \u001b[0;36mopen\u001b[1;34m(fp, mode, driver, schema, crs, encoding, layer, vfs, enabled_drivers, crs_wkt, **kwargs)\u001b[0m\n\u001b[0;32m    265\u001b[0m \u001b[1;33m\u001b[0m\u001b[0m\n\u001b[0;32m    266\u001b[0m         \u001b[1;32mif\u001b[0m \u001b[0mmode\u001b[0m \u001b[1;32min\u001b[0m \u001b[1;33m(\u001b[0m\u001b[1;34m'a'\u001b[0m\u001b[1;33m,\u001b[0m \u001b[1;34m'r'\u001b[0m\u001b[1;33m)\u001b[0m\u001b[1;33m:\u001b[0m\u001b[1;33m\u001b[0m\u001b[1;33m\u001b[0m\u001b[0m\n\u001b[1;32m--> 267\u001b[1;33m             c = Collection(path, mode, driver=driver, encoding=encoding,\n\u001b[0m\u001b[0;32m    268\u001b[0m                            layer=layer, enabled_drivers=enabled_drivers, **kwargs)\n\u001b[0;32m    269\u001b[0m         \u001b[1;32melif\u001b[0m \u001b[0mmode\u001b[0m \u001b[1;33m==\u001b[0m \u001b[1;34m'w'\u001b[0m\u001b[1;33m:\u001b[0m\u001b[1;33m\u001b[0m\u001b[1;33m\u001b[0m\u001b[0m\n",
      "\u001b[1;32m~\\anaconda3\\lib\\site-packages\\fiona\\collection.py\u001b[0m in \u001b[0;36m__init__\u001b[1;34m(self, path, mode, driver, schema, crs, encoding, layer, vsi, archive, enabled_drivers, crs_wkt, ignore_fields, ignore_geometry, **kwargs)\u001b[0m\n\u001b[0;32m    160\u001b[0m             \u001b[1;32mif\u001b[0m \u001b[0mself\u001b[0m\u001b[1;33m.\u001b[0m\u001b[0mmode\u001b[0m \u001b[1;33m==\u001b[0m \u001b[1;34m'r'\u001b[0m\u001b[1;33m:\u001b[0m\u001b[1;33m\u001b[0m\u001b[1;33m\u001b[0m\u001b[0m\n\u001b[0;32m    161\u001b[0m                 \u001b[0mself\u001b[0m\u001b[1;33m.\u001b[0m\u001b[0msession\u001b[0m \u001b[1;33m=\u001b[0m \u001b[0mSession\u001b[0m\u001b[1;33m(\u001b[0m\u001b[1;33m)\u001b[0m\u001b[1;33m\u001b[0m\u001b[1;33m\u001b[0m\u001b[0m\n\u001b[1;32m--> 162\u001b[1;33m                 \u001b[0mself\u001b[0m\u001b[1;33m.\u001b[0m\u001b[0msession\u001b[0m\u001b[1;33m.\u001b[0m\u001b[0mstart\u001b[0m\u001b[1;33m(\u001b[0m\u001b[0mself\u001b[0m\u001b[1;33m,\u001b[0m \u001b[1;33m**\u001b[0m\u001b[0mkwargs\u001b[0m\u001b[1;33m)\u001b[0m\u001b[1;33m\u001b[0m\u001b[1;33m\u001b[0m\u001b[0m\n\u001b[0m\u001b[0;32m    163\u001b[0m             \u001b[1;32melif\u001b[0m \u001b[0mself\u001b[0m\u001b[1;33m.\u001b[0m\u001b[0mmode\u001b[0m \u001b[1;32min\u001b[0m \u001b[1;33m(\u001b[0m\u001b[1;34m'a'\u001b[0m\u001b[1;33m,\u001b[0m \u001b[1;34m'w'\u001b[0m\u001b[1;33m)\u001b[0m\u001b[1;33m:\u001b[0m\u001b[1;33m\u001b[0m\u001b[1;33m\u001b[0m\u001b[0m\n\u001b[0;32m    164\u001b[0m                 \u001b[0mself\u001b[0m\u001b[1;33m.\u001b[0m\u001b[0msession\u001b[0m \u001b[1;33m=\u001b[0m \u001b[0mWritingSession\u001b[0m\u001b[1;33m(\u001b[0m\u001b[1;33m)\u001b[0m\u001b[1;33m\u001b[0m\u001b[1;33m\u001b[0m\u001b[0m\n",
      "\u001b[1;32mfiona\\ogrext.pyx\u001b[0m in \u001b[0;36mfiona.ogrext.Session.start\u001b[1;34m()\u001b[0m\n",
      "\u001b[1;32mfiona\\_shim.pyx\u001b[0m in \u001b[0;36mfiona._shim.gdal_open_vector\u001b[1;34m()\u001b[0m\n",
      "\u001b[1;31mDriverError\u001b[0m: ../assets/Boundaries_Community_Areas.geojson: No such file or directory"
     ]
    },
    {
     "data": {
      "image/png": "[encoded data removed]",
      "text/plain": [
       "<Figure size 1440x1440 with 1 Axes>"
      ]
     },
     "metadata": {
      "needs_background": "light"
     },
     "output_type": "display_data"
    }
   ],
   "source": [
    "#plot data to the map\n",
    "dict_df = {'train_data':df_train           \n",
    "          }\n",
    "plot_geodata(dict_df)"
   ]
  },
  {
   "cell_type": "markdown",
   "id": "4fb5211c",
   "metadata": {},
   "source": [
    "#### test data"
   ]
  },
  {
   "cell_type": "code",
   "execution_count": null,
   "id": "732d4be7",
   "metadata": {},
   "outputs": [],
   "source": [
    "df_test = pd.read_csv(\"../assets/test.csv\")\n",
    "df_test.head()"
   ]
  },
  {
   "cell_type": "code",
   "execution_count": null,
   "id": "b42717de",
   "metadata": {},
   "outputs": [],
   "source": [
    "dict_df = {'train_data':df_train, \n",
    "           'test_data':df_test,\n",
    "          }\n",
    "plot_geodata(dict_df)\n"
   ]
  },
  {
   "cell_type": "code",
   "execution_count": null,
   "id": "ef3dc634",
   "metadata": {},
   "outputs": [],
   "source": []
  },
  {
   "cell_type": "code",
   "execution_count": null,
   "id": "bef308b0",
   "metadata": {},
   "outputs": [],
   "source": []
  },
  {
   "cell_type": "markdown",
   "id": "60e4ea21",
   "metadata": {},
   "source": [
    "#### spray data"
   ]
  },
  {
   "cell_type": "code",
   "execution_count": null,
   "id": "24487837",
   "metadata": {},
   "outputs": [],
   "source": [
    "df_spray = pd.read_csv(\"../assets/spray.csv\")\n",
    "df_spray.head()"
   ]
  },
  {
   "cell_type": "code",
   "execution_count": null,
   "id": "36878c4f",
   "metadata": {},
   "outputs": [],
   "source": [
    "dict_df = {'train_data':df_train, \n",
    "           'test_data':df_test,\n",
    "           'spray_data':df_spray,\n",
    "           \n",
    "          }\n",
    "plot_geodata(dict_df)\n"
   ]
  },
  {
   "cell_type": "markdown",
   "id": "6c617d35",
   "metadata": {},
   "source": [
    "**we only consider the spray data close to those traps, whose latitude are all below 42.3**"
   ]
  },
  {
   "cell_type": "code",
   "execution_count": null,
   "id": "80b3a89b",
   "metadata": {},
   "outputs": [],
   "source": [
    "df_spray = df_spray.query(\"Latitude < 42.3\")"
   ]
  },
  {
   "cell_type": "code",
   "execution_count": null,
   "id": "fd70bae0",
   "metadata": {},
   "outputs": [],
   "source": [
    "#plot data to the map\n",
    "dict_df = {'train_data':df_train, \n",
    "           'test_data':df_test,\n",
    "           'spray_data':df_spray,\n",
    "           \n",
    "          }\n",
    "plot_geodata(dict_df)\n"
   ]
  },
  {
   "cell_type": "markdown",
   "id": "a84950bd",
   "metadata": {},
   "source": [
    "#### weather data"
   ]
  },
  {
   "cell_type": "code",
   "execution_count": null,
   "id": "217a11a2",
   "metadata": {},
   "outputs": [],
   "source": [
    "df_weather = pd.read_csv(\"../assets/weather.csv\")\n",
    "df_weather.head()"
   ]
  },
  {
   "cell_type": "code",
   "execution_count": null,
   "id": "eaf05603",
   "metadata": {},
   "outputs": [],
   "source": []
  },
  {
   "cell_type": "code",
   "execution_count": null,
   "id": "ffaabd27",
   "metadata": {},
   "outputs": [],
   "source": []
  },
  {
   "cell_type": "markdown",
   "id": "5202201e",
   "metadata": {},
   "source": [
    "# Further Data Cleaning\n",
    "We will check and handle:\n",
    "- null values\n",
    "- invalid values\n",
    "- potential outliers"
   ]
  },
  {
   "cell_type": "markdown",
   "id": "76852357",
   "metadata": {},
   "source": [
    "#### **df_train**"
   ]
  },
  {
   "cell_type": "code",
   "execution_count": null,
   "id": "5f8b1e5d",
   "metadata": {},
   "outputs": [],
   "source": [
    "#check null values\n",
    "df_train.isnull().sum().sort_values(ascending=False)"
   ]
  },
  {
   "cell_type": "code",
   "execution_count": null,
   "id": "192fd6e1",
   "metadata": {},
   "outputs": [],
   "source": [
    "\n",
    "df_train.info()"
   ]
  },
  {
   "cell_type": "code",
   "execution_count": null,
   "id": "b8b99720",
   "metadata": {},
   "outputs": [],
   "source": [
    "df_train['Date'] = pd.to_datetime(df_train['Date'])\n",
    "df_train.info()"
   ]
  },
  {
   "cell_type": "markdown",
   "id": "645bd4d2",
   "metadata": {},
   "source": [
    "**clean df_test**"
   ]
  },
  {
   "cell_type": "code",
   "execution_count": null,
   "id": "249ac186",
   "metadata": {},
   "outputs": [],
   "source": [
    "df_test.isnull().sum().sort_values(ascending=False)"
   ]
  },
  {
   "cell_type": "code",
   "execution_count": null,
   "id": "35cc5d55",
   "metadata": {},
   "outputs": [],
   "source": [
    "df_test.info()"
   ]
  },
  {
   "cell_type": "code",
   "execution_count": null,
   "id": "c748bad4",
   "metadata": {},
   "outputs": [],
   "source": [
    "df_test['Date'] = pd.to_datetime(df_test['Date'])\n",
    "df_test.info()"
   ]
  },
  {
   "cell_type": "markdown",
   "id": "424d8d64",
   "metadata": {},
   "source": [
    "**clean df_spray**"
   ]
  },
  {
   "cell_type": "code",
   "execution_count": null,
   "id": "3ce1b623",
   "metadata": {},
   "outputs": [],
   "source": [
    "df_spray.isnull().sum().sort_values(ascending=False)"
   ]
  },
  {
   "cell_type": "code",
   "execution_count": null,
   "id": "6ecca235",
   "metadata": {},
   "outputs": [],
   "source": [
    "df_spray.shape"
   ]
  },
  {
   "cell_type": "code",
   "execution_count": null,
   "id": "dd622f36",
   "metadata": {},
   "outputs": [],
   "source": [
    "df_spray.head(20)"
   ]
  },
  {
   "cell_type": "code",
   "execution_count": null,
   "id": "3d892ee8",
   "metadata": {},
   "outputs": [],
   "source": [
    "df_spray.info()"
   ]
  },
  {
   "cell_type": "code",
   "execution_count": null,
   "id": "f9ee554c",
   "metadata": {},
   "outputs": [],
   "source": [
    "df_spray['Date']=pd.to_datetime(df_spray['Date'])\n",
    "df_spray.info()"
   ]
  },
  {
   "cell_type": "markdown",
   "id": "3f6a44b6",
   "metadata": {},
   "source": [
    "**clean df_weather**"
   ]
  },
  {
   "cell_type": "code",
   "execution_count": null,
   "id": "080af300",
   "metadata": {},
   "outputs": [],
   "source": [
    "df_weather.isnull().sum().sort_values(ascending=False)"
   ]
  },
  {
   "cell_type": "code",
   "execution_count": null,
   "id": "350a4e50",
   "metadata": {},
   "outputs": [],
   "source": [
    "df_weather.info()"
   ]
  },
  {
   "cell_type": "code",
   "execution_count": null,
   "id": "aa77b335",
   "metadata": {},
   "outputs": [],
   "source": [
    "df_weather['Date'] = pd.to_datetime(df_weather['Date'])\n",
    "df_weather.info()"
   ]
  },
  {
   "cell_type": "code",
   "execution_count": null,
   "id": "52539f16",
   "metadata": {},
   "outputs": [],
   "source": [
    "df_weather['Tavg'].value_counts()"
   ]
  },
  {
   "cell_type": "code",
   "execution_count": null,
   "id": "145ed850",
   "metadata": {},
   "outputs": [],
   "source": [
    "df_weather.query(\"Tavg == 'M'\")"
   ]
  },
  {
   "cell_type": "code",
   "execution_count": null,
   "id": "0a6f132e",
   "metadata": {},
   "outputs": [],
   "source": [
    "df_weather['Tavg']=np.where(df_weather['Tavg']=='M', (df_weather['Tmax']+df_weather['Tmin'])/2, df_weather['Tavg'])\n",
    "df_weather['Tavg']=df_weather['Tavg'].astype(float)\n",
    "df_weather.info()"
   ]
  },
  {
   "cell_type": "code",
   "execution_count": null,
   "id": "cde1ab46",
   "metadata": {},
   "outputs": [],
   "source": [
    "df_weather['Water1'].value_counts()"
   ]
  },
  {
   "cell_type": "code",
   "execution_count": null,
   "id": "e4ef4211",
   "metadata": {},
   "outputs": [],
   "source": [
    "df_weather['PrecipTotal'].value_counts()"
   ]
  },
  {
   "cell_type": "markdown",
   "id": "0ba5adb4",
   "metadata": {},
   "source": [
    "Special symbols\n",
    "\n",
    "Symbols that appear on many of the individual summaries: (*) less than one half; (T ) trace, an amount too small to measure; (—) below zero temperatures are preceded by a minus sign.\n",
    "Weather averages year-by-year\n",
    "\n",
    "PRECIPITATION refers to the inches of water equivalent in the total of all forms of liquid or frozen precipitation that fell during each month. Snowfall refers to the actual amount of snow in inches that fell during the month. T (trace) is a precipitation amount of less than 0.005 in (note: in estimating the water equivalent of snow a ratio of 10 in of snow equal 1 in of water is customarily employed).\n",
    "https://www.encyclopedia.com/environment/encyclopedias-almanacs-transcripts-and-maps/local-climatological-data-reports\n"
   ]
  },
  {
   "cell_type": "code",
   "execution_count": null,
   "id": "4114078b",
   "metadata": {},
   "outputs": [],
   "source": [
    "df_weather['PrecipTotal']=np.where(df_weather['PrecipTotal'].str.strip() =='T', 0.005, df_weather['PrecipTotal'] )\n",
    "df_weather['PrecipTotal']=np.where(df_weather['PrecipTotal'].str.strip() =='M', 0, df_weather['PrecipTotal'] )\n",
    "df_weather['PrecipTotal']=df_weather['PrecipTotal'].astype(float)\n",
    "df_weather.info()"
   ]
  },
  {
   "cell_type": "markdown",
   "id": "9c26f98e",
   "metadata": {},
   "source": [
    "**split df_weather into 2 dataframes according to weather stations**"
   ]
  },
  {
   "cell_type": "code",
   "execution_count": null,
   "id": "80f60ae1",
   "metadata": {},
   "outputs": [],
   "source": [
    "df_weather_1=df_weather.query(\"Station == 1\")\n",
    "df_weather_1.set_index(\"Date\", inplace=True)\n",
    "df_weather_1.head()"
   ]
  },
  {
   "cell_type": "code",
   "execution_count": null,
   "id": "1356886b",
   "metadata": {},
   "outputs": [],
   "source": []
  },
  {
   "cell_type": "markdown",
   "id": "e97f7aac",
   "metadata": {},
   "source": [
    "**try to find out the day lenght for 2 stations**"
   ]
  },
  {
   "cell_type": "markdown",
   "id": "dd23a1ec",
   "metadata": {},
   "source": [
    "**df_weather_1**"
   ]
  },
  {
   "cell_type": "code",
   "execution_count": null,
   "id": "29380773",
   "metadata": {},
   "outputs": [],
   "source": [
    "#convert datatype\n",
    "df_weather_1['Sunset'] = df_weather_1['Sunset'].astype(int)"
   ]
  },
  {
   "cell_type": "code",
   "execution_count": null,
   "id": "d1f23035",
   "metadata": {},
   "outputs": [],
   "source": [
    "df_weather_1['Sunrise'].value_counts()"
   ]
  },
  {
   "cell_type": "code",
   "execution_count": null,
   "id": "a5d055ec",
   "metadata": {},
   "outputs": [],
   "source": [
    "df_weather_1['Sunrise'] = df_weather_1['Sunrise'].astype(int)\n",
    "df_weather_1['Day_length'] =((df_weather_1['Sunset']//100*60+df_weather_1['Sunset']%100)\n",
    "                                 - (df_weather_1['Sunrise']//100*60+df_weather_1['Sunrise']%100)\n",
    "                               )/60 \n",
    "df_weather_1[['Sunrise','Sunset','Day_length']].head(10)"
   ]
  },
  {
   "cell_type": "markdown",
   "id": "11860a6b",
   "metadata": {},
   "source": [
    "**df_weather_2**"
   ]
  },
  {
   "cell_type": "code",
   "execution_count": null,
   "id": "49b1b832",
   "metadata": {},
   "outputs": [],
   "source": [
    "df_weather_2=df_weather.query(\"Station == 2\")\n",
    "df_weather_2.set_index(\"Date\", inplace=True)"
   ]
  },
  {
   "cell_type": "code",
   "execution_count": null,
   "id": "7c20ad94",
   "metadata": {},
   "outputs": [],
   "source": [
    "#copy the 'Sunrise', 'Sunset' and 'Day_length' from df_weather_1 to df_weather_2\n",
    "df_weather_2.loc[:,'Sunrise'] = np.where(True, df_weather_1['Sunrise'],0)\n",
    "df_weather_2.loc[:,'Sunset'] = np.where(True,df_weather_1['Sunset'],0)\n",
    "df_weather_2.loc[:,'Day_length'] = np.where(True,df_weather_1['Day_length'],0)\n",
    "df_weather_2.head()"
   ]
  },
  {
   "cell_type": "code",
   "execution_count": null,
   "id": "e81db328",
   "metadata": {},
   "outputs": [],
   "source": []
  },
  {
   "cell_type": "markdown",
   "id": "45c47184",
   "metadata": {},
   "source": [
    "# EDA\n",
    "- "
   ]
  },
  {
   "cell_type": "markdown",
   "id": "4fdcf3a4",
   "metadata": {},
   "source": [
    "**Mosquito Species Analysis**"
   ]
  },
  {
   "cell_type": "code",
   "execution_count": null,
   "id": "7d2ea89c",
   "metadata": {},
   "outputs": [],
   "source": [
    "df_train['Species'].unique()"
   ]
  },
  {
   "cell_type": "code",
   "execution_count": null,
   "id": "c0f354fb",
   "metadata": {},
   "outputs": [],
   "source": [
    "df_test['Species'].unique()"
   ]
  },
  {
   "cell_type": "code",
   "execution_count": null,
   "id": "f3a477ae",
   "metadata": {},
   "outputs": [],
   "source": []
  },
  {
   "cell_type": "code",
   "execution_count": null,
   "id": "b3c2ae76",
   "metadata": {
    "scrolled": false
   },
   "outputs": [],
   "source": [
    "#plot NumMosquitos and WnvPresent of different species\n",
    "df1 = df_train\n",
    "df1 = df1.set_index(\"Date\")\n",
    "species = df1['Species'].unique().tolist()\n",
    "print('             ploting NumMosquitos and WnvPresent of different species')\n",
    "for i in range(len(species)):\n",
    "    df = df1[df1[\"Species\"] == species[i]]\n",
    "    palette ={'CULEX PIPIENS/RESTUANS': \"C0\",\n",
    "              'CULEX RESTUANS': \"C1\", \n",
    "              'CULEX PIPIENS': \"C2\", \n",
    "              'CULEX SALINARIUS': \"C3\",\n",
    "              'CULEX TERRITANS': \"C4\", \n",
    "              'CULEX TARSALIS': \"C5\", \n",
    "              'CULEX ERRATICUS': \"C6\", \n",
    "              'UNSPECIFIED CULEX': \"C7\"\n",
    "             }\n",
    "   # print(species[i])\n",
    "    #palette = dict(zip(unique, sns.color_palette(n_colors=len(unique))))\n",
    "    fig,ax=plt.subplots(2,sharex='col',figsize=(16,5))\n",
    "    #df['WnvPresent'].plot(kind='area', ax=ax[0])\n",
    "    sns.scatterplot(data=df,x=df.index, y='WnvPresent',hue='Species',ax=ax[0],palette=palette)\n",
    "    #df['NumMosquitos'].plot(kind='area', ax=ax[1])\n",
    "    sns.scatterplot(data=df,x=df.index, y='NumMosquitos',hue='Species',ax=ax[1],palette=palette)"
   ]
  },
  {
   "cell_type": "markdown",
   "id": "62579f39",
   "metadata": {},
   "source": [
    "**Observations**:\n",
    "- West Nile Virus is founded in 'CULEX PIPIENS/RESTUANS', 'CULEX RESTUANS', 'CULEX PIPIENS' only, thus we can group the other species as one group for convenience\n",
    "- the popultion of 'CULEX PIPIENS' varied in different years"
   ]
  },
  {
   "cell_type": "markdown",
   "id": "bbc9b1cb",
   "metadata": {},
   "source": [
    "**NumMosquitos vs. WnvPresent**"
   ]
  },
  {
   "cell_type": "code",
   "execution_count": null,
   "id": "cf4ca0e7",
   "metadata": {},
   "outputs": [],
   "source": [
    "df_wnvpresent = df_train.query(\"WnvPresent==1\")\n",
    "df_not_wnvpresent = df_train.query(\"WnvPresent==0\")"
   ]
  },
  {
   "cell_type": "code",
   "execution_count": null,
   "id": "c1bd5006",
   "metadata": {},
   "outputs": [],
   "source": [
    "sns.histplot(data=df_wnvpresent, x='NumMosquitos')"
   ]
  },
  {
   "cell_type": "code",
   "execution_count": null,
   "id": "c95d608e",
   "metadata": {},
   "outputs": [],
   "source": [
    "fig,ax=plt.subplots(2,sharex='col',figsize=(10,8))\n",
    "#df['WnvPresent'].plot(kind='area', ax=ax[0])\n",
    "sns.histplot(data=df_wnvpresent, x='NumMosquitos',ax=ax[0])\n",
    "sns.histplot(data=df_not_wnvpresent, x='NumMosquitos',ax=ax[1])"
   ]
  },
  {
   "cell_type": "code",
   "execution_count": null,
   "id": "3bb9a46a",
   "metadata": {},
   "outputs": [],
   "source": []
  },
  {
   "cell_type": "code",
   "execution_count": null,
   "id": "ed453bd7",
   "metadata": {},
   "outputs": [],
   "source": [
    "df_train.groupby(['Species']).mean()['WnvPresent']"
   ]
  },
  {
   "cell_type": "markdown",
   "id": "cd0be1b7",
   "metadata": {},
   "source": [
    "#### EDA df_weather_2"
   ]
  },
  {
   "cell_type": "code",
   "execution_count": null,
   "id": "2d48c77c",
   "metadata": {},
   "outputs": [],
   "source": [
    "df_weather_2['Tmax'].plot()"
   ]
  },
  {
   "cell_type": "code",
   "execution_count": null,
   "id": "71b19b8f",
   "metadata": {},
   "outputs": [],
   "source": []
  },
  {
   "cell_type": "code",
   "execution_count": null,
   "id": "d282006e",
   "metadata": {
    "scrolled": true
   },
   "outputs": [],
   "source": [
    "df_weather_2['DewPoint'].plot()"
   ]
  },
  {
   "cell_type": "code",
   "execution_count": null,
   "id": "ef320362",
   "metadata": {
    "scrolled": true
   },
   "outputs": [],
   "source": [
    "df_weather_2['ResultSpeed'].plot()"
   ]
  },
  {
   "cell_type": "code",
   "execution_count": null,
   "id": "cc1fc3b1",
   "metadata": {
    "scrolled": true
   },
   "outputs": [],
   "source": [
    "df_weather_2['ResultDir'].plot()"
   ]
  },
  {
   "cell_type": "code",
   "execution_count": null,
   "id": "a901742a",
   "metadata": {},
   "outputs": [],
   "source": []
  },
  {
   "cell_type": "code",
   "execution_count": null,
   "id": "81731e52",
   "metadata": {},
   "outputs": [],
   "source": [
    "sns.pairplot(df_weather_2)"
   ]
  },
  {
   "cell_type": "code",
   "execution_count": null,
   "id": "bffa1e9f",
   "metadata": {},
   "outputs": [],
   "source": []
  },
  {
   "cell_type": "code",
   "execution_count": null,
   "id": "24c1b966",
   "metadata": {},
   "outputs": [],
   "source": []
  },
  {
   "cell_type": "markdown",
   "id": "a87d31e6",
   "metadata": {},
   "source": [
    "# Feature Engineering\n",
    "- \"Species\": \n",
    "    - all species which dont carry virus will be regrouped to 'OTHERS'\n",
    "    - convert this categorical feature into dummy variables \n",
    "- \"Trap\":\n",
    "    - cluster all traps based on their locations\n",
    "    - convert this categorical feature into dummy variables \n",
    "- weather data\n",
    "    - decide weather_features to shift, to rolling-mean, and to rolling-sum\n",
    "    - add those weather_features to training set"
   ]
  },
  {
   "cell_type": "markdown",
   "id": "04486555",
   "metadata": {},
   "source": [
    "**\"Species\"**: \n",
    "   - all species which dont carry virus will be regrouped to 'OTHERS'\n",
    "   - convert this categorical feature into dummy variables "
   ]
  },
  {
   "cell_type": "code",
   "execution_count": null,
   "id": "14e048d0",
   "metadata": {},
   "outputs": [],
   "source": [
    "df_train.loc[:,['Species']] = np.where(df_train['Species'].isin(['CULEX PIPIENS','CULEX PIPIENS/RESTUANS','CULEX RESTUANS']),\n",
    "                                      df_train['Species'],\n",
    "                                      'OTHERS')\n",
    "#for test submission\n",
    "df_test.loc[:,['Species']] = np.where(df_test['Species'].isin(['CULEX PIPIENS','CULEX PIPIENS/RESTUANS','CULEX RESTUANS']),\n",
    "                                      df_test['Species'],\n",
    "                                      'OTHERS')"
   ]
  },
  {
   "cell_type": "code",
   "execution_count": null,
   "id": "b8c04b90",
   "metadata": {},
   "outputs": [],
   "source": [
    "df_train = pd.get_dummies(columns=[\"Species\"], data=df_train, drop_first=True)\n",
    "\n",
    "#for test submission\n",
    "df_test = pd.get_dummies(columns=[\"Species\"], data=df_test, drop_first=True)"
   ]
  },
  {
   "cell_type": "markdown",
   "id": "5c43037f",
   "metadata": {},
   "source": [
    "**cluster traps**\n",
    "   - cluster all traps based on their locations\n",
    "   - convert this categorical feature into dummy variables "
   ]
  },
  {
   "cell_type": "code",
   "execution_count": null,
   "id": "83fee31f",
   "metadata": {},
   "outputs": [],
   "source": [
    "#plot all traps locations\n",
    "fig,ax=plt.subplots(1,figsize=(10,18))\n",
    "sns.scatterplot(data=df_train, x='Latitude',y='Longitude',ax=ax, palette=\"muted\")"
   ]
  },
  {
   "cell_type": "code",
   "execution_count": null,
   "id": "de277ec4",
   "metadata": {},
   "outputs": [],
   "source": [
    "# Let's prepare our X matrix\n",
    "X = df_train.loc[:, ['Latitude', 'Longitude']]\n",
    "\n",
    "#for test submission\n",
    "X_test = df_test.loc[:, ['Latitude', 'Longitude']]\n"
   ]
  },
  {
   "cell_type": "code",
   "execution_count": null,
   "id": "b7e1f96a",
   "metadata": {},
   "outputs": [],
   "source": [
    "km = KMeans(n_clusters=30, random_state=42)\n",
    "km.fit(X)"
   ]
  },
  {
   "cell_type": "code",
   "execution_count": null,
   "id": "8eef3766",
   "metadata": {},
   "outputs": [],
   "source": [
    "# Check out centroids\n",
    "km.cluster_centers_"
   ]
  },
  {
   "cell_type": "code",
   "execution_count": null,
   "id": "18cfe693",
   "metadata": {},
   "outputs": [],
   "source": [
    "df_train['trap_cluster']=km.labels_\n",
    "\n",
    "#for test submission\n",
    "df_test['trap_cluster']=km.predict(X_test)\n"
   ]
  },
  {
   "cell_type": "code",
   "execution_count": null,
   "id": "62b5aeba",
   "metadata": {
    "scrolled": false
   },
   "outputs": [],
   "source": [
    "fig,ax=plt.subplots(1,figsize=(10,18))\n",
    "sns.scatterplot(data=df_train, x='Latitude',y='Longitude', hue='trap_cluster',ax=ax, palette=\"muted\")"
   ]
  },
  {
   "cell_type": "markdown",
   "id": "106dd3bc",
   "metadata": {},
   "source": [
    "**convert the trap clusters into dummy variables**"
   ]
  },
  {
   "cell_type": "code",
   "execution_count": null,
   "id": "5fb91b1d",
   "metadata": {},
   "outputs": [],
   "source": [
    "df_train = pd.get_dummies(columns=[\"trap_cluster\"], data=df_train, drop_first=True)\n",
    "\n",
    "#for test submission\n",
    "df_test = pd.get_dummies(columns=[\"trap_cluster\"], data=df_test, drop_first=True)"
   ]
  },
  {
   "cell_type": "code",
   "execution_count": null,
   "id": "35d70ac7",
   "metadata": {},
   "outputs": [],
   "source": []
  },
  {
   "cell_type": "markdown",
   "id": "2edadc39",
   "metadata": {},
   "source": [
    "**create new column 'Station', indicating which station a trap is closer to**"
   ]
  },
  {
   "cell_type": "code",
   "execution_count": null,
   "id": "7865f185",
   "metadata": {},
   "outputs": [],
   "source": [
    "df_train['Station']= df_train.apply(near_station, axis=1)\n",
    "\n",
    "#for test submission\n",
    "df_test['Station']= df_test.apply(near_station, axis=1)"
   ]
  },
  {
   "cell_type": "markdown",
   "id": "96c5b0d3",
   "metadata": {},
   "source": [
    "**merge weather data to training set**\n",
    "- decide weather_features to shift, to rolling-mean, and to rolling-sum\n",
    "- add those weather_features to training set"
   ]
  },
  {
   "cell_type": "code",
   "execution_count": null,
   "id": "3aabe22e",
   "metadata": {},
   "outputs": [],
   "source": [
    "k1=6\n",
    "weather_features_shift = { \"Tmax\" : k1,  \n",
    "                              \"Tmin\" : k1,\n",
    "                              \"Tavg\" : k1,\n",
    "                              'DewPoint' :k1,\n",
    "                              \"Sunrise\" : k1,\n",
    "                              \"Sunset\"  : k1,\n",
    "                             'Day_length' : k1,\n",
    "                             'PrecipTotal' : k1,\n",
    "                             'ResultSpeed' : k1\n",
    "                           }\n",
    "    \n",
    "    \n",
    "k2 = 12\n",
    "weather_features_rollingmean = { \"Tmax\" : k2,  \n",
    "                             \"Tmin\" : k2,\n",
    "                             \"Tavg\" : k2,\n",
    "                             'DewPoint' :k2,\n",
    "                             \"Sunrise\" : k2,\n",
    "                             \"Sunset\"  : k2,\n",
    "                             'Day_length' : k2,\n",
    "                             'PrecipTotal' : k2,\n",
    "                             'ResultSpeed' : k2\n",
    "                           }\n",
    "\n",
    "k3 = 14\n",
    "weather_features_rollingSum = {  \"Tmax\" : k3,  \n",
    "                                 \"Tmin\" : k3,\n",
    "                                 \"Tavg\" : k3,\n",
    "                                 'DewPoint' :k3,\n",
    "                                 \"Sunrise\" : k3,\n",
    "                                 \"Sunset\"  : k3,\n",
    "                                 'Day_length' : k3,\n",
    "                                 'PrecipTotal' : k3,\n",
    "                                 'ResultSpeed' : k3\n",
    "                           }\n",
    "\n",
    "df_final = add_weather_features(df_train, \n",
    "                                weather_features_shift,\n",
    "                                weather_features_rollingmean,\n",
    "                                weather_features_rollingSum)\n",
    "\n",
    "\n",
    "#for test submission\n",
    "df_final_submission = add_weather_features(df_test, \n",
    "                                weather_features_shift,\n",
    "                                weather_features_rollingmean,\n",
    "                                weather_features_rollingSum)"
   ]
  },
  {
   "cell_type": "code",
   "execution_count": null,
   "id": "6e2f9014",
   "metadata": {},
   "outputs": [],
   "source": []
  },
  {
   "cell_type": "markdown",
   "id": "3af6a659",
   "metadata": {},
   "source": [
    "# Data Preparation"
   ]
  },
  {
   "cell_type": "code",
   "execution_count": null,
   "id": "509ef459",
   "metadata": {},
   "outputs": [],
   "source": [
    "\n",
    "columns_to_drop = ['Date', 'Address', 'Block', 'Street', 'Trap', 'AddressNumberAndStreet', \n",
    "                            'Latitude', 'Longitude', 'AddressAccuracy', 'NumMosquitos', 'WnvPresent', 'geometry','Station']\n",
    "\n",
    "X = df_final.drop(columns=columns_to_drop)\n",
    "y = df_final['WnvPresent']\n",
    "\n",
    "X_train, X_test, y_train, y_test = train_test_split(X, y, test_size=.3, random_state=100, stratify=y)\n",
    "#X_train, X_test, y_train, y_test = train_test_split(X, y, test_size=.3, random_state=100, shuffle=False)\n",
    "\n",
    "\n",
    "\n",
    "\n",
    "\n",
    "#for test submission\n",
    "columns_to_drop_submission = ['Date', 'Address', 'Block', 'Street', 'Trap', 'AddressNumberAndStreet', \n",
    "                            'Latitude', 'Longitude', 'AddressAccuracy', 'geometry','Station', 'Id']\n",
    "\n",
    "X_submission =  df_final_submission.drop(columns=columns_to_drop_submission)\n"
   ]
  },
  {
   "cell_type": "code",
   "execution_count": null,
   "id": "d7410e28",
   "metadata": {},
   "outputs": [],
   "source": []
  },
  {
   "cell_type": "markdown",
   "id": "82564b53",
   "metadata": {},
   "source": [
    "# Modelling\n",
    "- oversampling and undersampling\n",
    "- run model\n",
    "- evaluate performance"
   ]
  },
  {
   "cell_type": "markdown",
   "id": "6fbd54ad",
   "metadata": {},
   "source": [
    "### Model: GradientBoostingClassifier"
   ]
  },
  {
   "cell_type": "code",
   "execution_count": null,
   "id": "c0e13163",
   "metadata": {
    "scrolled": false
   },
   "outputs": [],
   "source": [
    "# define pipeline\n",
    "over = RandomOverSampler(sampling_strategy=0.1)\n",
    "under = RandomUnderSampler(sampling_strategy=0.5)\n",
    "model = GradientBoostingClassifier(random_state=42)\n",
    "\n",
    "steps = [('o', over), ('u', under), ('classifier', model)]\n",
    "pipe = Pipeline(steps=steps)\n",
    "\n",
    "\n",
    "#pipeline parameters\n",
    "pipe_params = {'classifier__n_estimators' : [300,500],       #The number of trees in the forest.\n",
    "               'classifier__max_depth' : [2,3,4],              #The maximum depth of the tree.\n",
    "               }\n",
    "\n",
    "# Instantiate GridSearchCV.\n",
    "#tscv = TimeSeriesSplit(n_splits=3)\n",
    "gs_gb = GridSearchCV(pipe, # what object are we optimizing?\n",
    "                    param_grid = pipe_params, # what parameters values are we searching?\n",
    "                    cv=3, # 3-fold cross-validation.\n",
    "                    n_jobs=-1, \n",
    "                    scoring='roc_auc'\n",
    "                    )\n",
    "\n",
    "\n",
    "#finding the best hypermeter list for the model\n",
    "run_model(gs_gb, X_train, y_train, X_test, y_test )\n",
    "\n"
   ]
  },
  {
   "cell_type": "code",
   "execution_count": null,
   "id": "7b46af25",
   "metadata": {},
   "outputs": [],
   "source": []
  },
  {
   "cell_type": "markdown",
   "id": "87943f81",
   "metadata": {},
   "source": [
    "### Model: RandomForestClassifier"
   ]
  },
  {
   "cell_type": "code",
   "execution_count": null,
   "id": "69eb144d",
   "metadata": {
    "scrolled": false
   },
   "outputs": [],
   "source": [
    "# define pipeline\n",
    "over = RandomOverSampler(sampling_strategy=0.1)\n",
    "under = RandomUnderSampler(sampling_strategy=0.5)\n",
    "model = RandomForestClassifier(random_state=42)\n",
    "\n",
    "steps = [('o', over), ('u', under), ('classifier', model)]\n",
    "pipe = Pipeline(steps=steps)\n",
    "\n",
    "\n",
    "#pipeline parameters\n",
    "pipe_params = {'classifier__n_estimators' : [300],       #The number of trees in the forest.\n",
    "                'classifier__max_depth' : [4,5,6],              #The maximum depth of the tree.\n",
    "                'classifier__class_weight' : [None, {0:1,1:5}, {0:1,1:10}, {0:1,1:25}]\n",
    "               }\n",
    "\n",
    "\n",
    "# Instantiate GridSearchCV.\n",
    "#tscv = TimeSeriesSplit(n_splits=3)\n",
    "gs_rf = GridSearchCV(pipe, # what object are we optimizing?\n",
    "                    param_grid = pipe_params, # what parameters values are we searching?\n",
    "                    cv=3, # 3-fold cross-validation.\n",
    "                    n_jobs=-1, \n",
    "                    scoring='roc_auc'\n",
    "                    )\n",
    "\n",
    "#finding the best hypermeter list for the model\n",
    "run_model(gs_rf, X_train, y_train, X_test, y_test )\n"
   ]
  },
  {
   "cell_type": "code",
   "execution_count": null,
   "id": "7039badc",
   "metadata": {},
   "outputs": [],
   "source": []
  },
  {
   "cell_type": "markdown",
   "id": "c550ef4b",
   "metadata": {},
   "source": [
    "### Model: LGBMClassifier"
   ]
  },
  {
   "cell_type": "code",
   "execution_count": null,
   "id": "0fa7d218",
   "metadata": {
    "scrolled": false
   },
   "outputs": [],
   "source": [
    "# define pipeline\n",
    "over = RandomOverSampler(sampling_strategy=0.1)\n",
    "under = RandomUnderSampler(sampling_strategy=0.5)\n",
    "model = lgb.LGBMClassifier(objective='binary',random_state=42)\n",
    "\n",
    "steps = [('o', over), ('u', under), ('classifier', model)]\n",
    "pipe = Pipeline(steps=steps)\n",
    "\n",
    "\n",
    "#pipeline parameters\n",
    "pipe_params = { 'classifier__num_leaves' : [30,35,40],   #The number of trees in the forest.\n",
    "                'classifier__learning_rate' : [.01,0.05],   #The number of trees in the forest.\n",
    "                'classifier__max_depth' : [4,5,6],              #The maximum depth of the tree.\n",
    "                'classifier__metric' : ['auc', 'binary_logloss']              #The maximum depth of the tree.\n",
    "                }\n",
    "\n",
    "# Instantiate GridSearchCV.\n",
    "#tscv = TimeSeriesSplit(n_splits=3)\n",
    "gs_lgb = GridSearchCV(pipe, # what object are we optimizing?\n",
    "                    param_grid = pipe_params, # what parameters values are we searching?\n",
    "                    cv=5, # 3-fold cross-validation.\n",
    "                    n_jobs=-1, \n",
    "                    scoring='roc_auc'\n",
    "                    )\n",
    "\n",
    "#finding the best hypermeter list for the model\n",
    "run_model(gs_lgb, X_train, y_train, X_test, y_test )\n"
   ]
  },
  {
   "cell_type": "code",
   "execution_count": null,
   "id": "ee66f148",
   "metadata": {},
   "outputs": [],
   "source": []
  },
  {
   "cell_type": "code",
   "execution_count": null,
   "id": "0c595a64",
   "metadata": {},
   "outputs": [],
   "source": []
  },
  {
   "cell_type": "markdown",
   "id": "509363d5",
   "metadata": {},
   "source": [
    "# Submission"
   ]
  },
  {
   "cell_type": "code",
   "execution_count": null,
   "id": "a5f791bb",
   "metadata": {},
   "outputs": [],
   "source": [
    "WnvPresent_prob_list = gs_lgb.predict_proba(X_submission)\n",
    "df_test['WnvPresent'] = [list(t) for t in zip(*WnvPresent_prob_list)][1]\n",
    "df_submission=df_test[['Id','WnvPresent']]\n",
    "df_submission.to_csv(\"../assets/submission.csv\",index=False)\n",
    "sns.histplot(df_submission['WnvPresent'])"
   ]
  },
  {
   "cell_type": "code",
   "execution_count": null,
   "id": "13c209ac",
   "metadata": {},
   "outputs": [],
   "source": []
  }
 ],
 "metadata": {
  "kernelspec": {
   "display_name": "Python 3 (ipykernel)",
   "language": "python",
   "name": "python3"
  },
  "language_info": {
   "codemirror_mode": {
    "name": "ipython",
    "version": 3
   },
   "file_extension": ".py",
   "mimetype": "text/x-python",
   "name": "python",
   "nbconvert_exporter": "python",
   "pygments_lexer": "ipython3",
   "version": "3.9.7"
  }
 },
 "nbformat": 4,
 "nbformat_minor": 5
}
