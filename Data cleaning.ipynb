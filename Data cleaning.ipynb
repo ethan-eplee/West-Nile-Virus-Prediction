{
 "cells": [
  {
   "cell_type": "markdown",
   "id": "a0759f66",
   "metadata": {},
   "source": [
    "References\n",
    "- https://github.com/Jordan-Bailey/DSI_Project_4\n",
    "- https://github.com/jcy10/DSI-Project-4\n",
    "- https://www.faqgit.com/repositories/Ashisme91/Imbalanced_Classification_of_West_Nile_Virus?id=409246\n",
    "- https://jovian.ai/ed19s004/west-nile-virus-prediction\n",
    "- https://github.com/zzeniale/West-Nile-Virus-prediction\n",
    "- https://github.com/dominiczrong/west-nile-virus-spread-prediction\n",
    "- https://github.com/haoapple/predict_west_nile_virus\n",
    "- https://github.com/solohcj/project_4\n",
    "- https://github.com/saqibnizami/DSI-Project-4\n",
    "- https://github.com/yufung/Project-4-West-Nile-Virus\n",
    "- https://github.com/gbkgwyneth/GA-DSI-project-04\n",
    "- https://github.com/jcy10/DSI-Project-4\n",
    "- https://github.com/Hao22/GA-Projects/blob/master/P4_West%20Nile%20Virus%20Classification/code/Project4-Part1(EDA).ipynb"
   ]
  },
  {
   "cell_type": "code",
   "execution_count": 1,
   "id": "b4827dc8",
   "metadata": {},
   "outputs": [],
   "source": [
    "import pandas as pd\n",
    "import numpy as np\n",
    "import matplotlib.pyplot as plt\n",
    "import seaborn as sns\n",
    "\n",
    "%matplotlib inline\n",
    "sns.set_style('darkgrid')\n",
    "sns.set_palette('viridis')"
   ]
  },
  {
   "cell_type": "code",
   "execution_count": 4,
   "id": "d3d75986",
   "metadata": {},
   "outputs": [],
   "source": [
    "train = pd.read_csv('./datasets/train.csv')\n",
    "weather = pd.read_csv('./datasets/weather.csv')\n",
    "spray = pd.read_csv('./datasets/spray.csv')"
   ]
  },
  {
   "cell_type": "code",
   "execution_count": 6,
   "id": "cbbc463b",
   "metadata": {},
   "outputs": [
    {
     "name": "stdout",
     "output_type": "stream",
     "text": [
      "<class 'pandas.core.frame.DataFrame'>\n",
      "RangeIndex: 10506 entries, 0 to 10505\n",
      "Data columns (total 12 columns):\n",
      " #   Column                  Non-Null Count  Dtype  \n",
      "---  ------                  --------------  -----  \n",
      " 0   Date                    10506 non-null  object \n",
      " 1   Address                 10506 non-null  object \n",
      " 2   Species                 10506 non-null  object \n",
      " 3   Block                   10506 non-null  int64  \n",
      " 4   Street                  10506 non-null  object \n",
      " 5   Trap                    10506 non-null  object \n",
      " 6   AddressNumberAndStreet  10506 non-null  object \n",
      " 7   Latitude                10506 non-null  float64\n",
      " 8   Longitude               10506 non-null  float64\n",
      " 9   AddressAccuracy         10506 non-null  int64  \n",
      " 10  NumMosquitos            10506 non-null  int64  \n",
      " 11  WnvPresent              10506 non-null  int64  \n",
      "dtypes: float64(2), int64(4), object(6)\n",
      "memory usage: 985.1+ KB\n"
     ]
    }
   ],
   "source": [
    "train.info()"
   ]
  },
  {
   "cell_type": "code",
   "execution_count": null,
   "id": "0eec5ef7",
   "metadata": {},
   "outputs": [],
   "source": []
  }
 ],
 "metadata": {
  "kernelspec": {
   "display_name": "Python 3 (ipykernel)",
   "language": "python",
   "name": "python3"
  },
  "language_info": {
   "codemirror_mode": {
    "name": "ipython",
    "version": 3
   },
   "file_extension": ".py",
   "mimetype": "text/x-python",
   "name": "python",
   "nbconvert_exporter": "python",
   "pygments_lexer": "ipython3",
   "version": "3.9.7"
  }
 },
 "nbformat": 4,
 "nbformat_minor": 5
}
